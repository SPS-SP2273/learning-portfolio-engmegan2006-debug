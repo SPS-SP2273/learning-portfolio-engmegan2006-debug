{
 "cells": [
  {
   "attachments": {},
   "cell_type": "markdown",
   "id": "123456",
   "metadata": {},
   "source": [
    "<div style=\"text-align:left;font-size:2em\"><span style=\"font-weight:bolder;font-size:1.25em\">SP2273 | Learning Portfolio</span><br><br><span style=\"font-weight:bold;color:darkred\">Storing Data (Good) Exercises</span></div>"
   ]
  },
  {
   "cell_type": "code",
   "execution_count": 7,
   "id": "889a3201",
   "metadata": {},
   "outputs": [
    {
     "data": {
      "text/plain": [
       "np.int64(5)"
      ]
     },
     "execution_count": 7,
     "metadata": {},
     "output_type": "execute_result"
    }
   ],
   "source": [
    "import numpy as np\n",
    "\n",
    "numbers = np.array([ 45, 60, 1, 30, 96, 1, 96, 57, 16, 1])\n",
    "mask = numbers > 30     # mask is now array([False, True, ...])\n",
    "mask.sum()              # only True subset will be seen, hence added to sum\n",
    "\n"
   ]
  },
  {
   "cell_type": "code",
   "execution_count": 8,
   "id": "582c8ca4",
   "metadata": {},
   "outputs": [
    {
     "data": {
      "text/plain": [
       "array([45, 60, 96, 96, 57])"
      ]
     },
     "execution_count": 8,
     "metadata": {},
     "output_type": "execute_result"
    }
   ],
   "source": [
    "numbers[mask]       # is same as: numbers[numbers>30]"
   ]
  },
  {
   "cell_type": "code",
   "execution_count": 10,
   "id": "1033aeba",
   "metadata": {},
   "outputs": [
    {
     "data": {
      "text/plain": [
       "array([ 1, 30,  1, 16,  1])"
      ]
     },
     "execution_count": 10,
     "metadata": {},
     "output_type": "execute_result"
    }
   ],
   "source": [
    "numbers[~mask]      # inverts the mask: lists all elements that are NOT in mask"
   ]
  },
  {
   "cell_type": "code",
   "execution_count": 12,
   "id": "726bd8c0",
   "metadata": {},
   "outputs": [
    {
     "data": {
      "text/plain": [
       "array([45, 30, 57, 16])"
      ]
     },
     "execution_count": 12,
     "metadata": {},
     "output_type": "execute_result"
    }
   ],
   "source": [
    "numbers[(numbers > 1) & (numbers < 60)]     # combined masks: AND  -> gives elements where BOTH masks hold true (overlap region)"
   ]
  },
  {
   "cell_type": "code",
   "execution_count": 14,
   "id": "5a15bae8",
   "metadata": {},
   "outputs": [
    {
     "data": {
      "text/plain": [
       "array([ 1, 96,  1, 96,  1])"
      ]
     },
     "execution_count": 14,
     "metadata": {},
     "output_type": "execute_result"
    }
   ],
   "source": [
    "numbers[(numbers < 2) | (numbers > 60)]     # combined masks: OR   -> gives elements where EITHER ONE OR BOTH masks hold true (union of regions)"
   ]
  },
  {
   "cell_type": "markdown",
   "id": "07940454",
   "metadata": {},
   "source": [
    "## Exercise 1"
   ]
  },
  {
   "cell_type": "markdown",
   "id": "b2c5cdc8",
   "metadata": {},
   "source": [
    "|Term   |Brief Description   |\n",
    "|:---   |:---                |\n",
    "|Subsetting| to select    |\n",
    "|Indexing  | selecting an element or a list within a list/array as output, based off of its position in the list/ array  |\n",
    "|Slicing   | selecting a subset of elements as output based off of its position in the list/array   |\n",
    "|Masking   | filtering elements based on specified conditions   | "
   ]
  },
  {
   "cell_type": "markdown",
   "id": "1e98dc0f",
   "metadata": {},
   "source": [
    "## Exercise 2"
   ]
  },
  {
   "cell_type": "code",
   "execution_count": 61,
   "id": "cc673f78",
   "metadata": {},
   "outputs": [
    {
     "name": "stdout",
     "output_type": "stream",
     "text": [
      "[ 1  3  2  4  5  7  6  8 10  9]\n",
      "[1 1 0 0 1 1 0 0 0 1]\n"
     ]
    },
    {
     "data": {
      "text/plain": [
       "array([ True,  True, False, False,  True,  True, False, False, False,\n",
       "        True])"
      ]
     },
     "execution_count": 61,
     "metadata": {},
     "output_type": "execute_result"
    }
   ],
   "source": [
    "np_array = np.array ([[1,\"A\"], [3,\"C\"], [2,\"B\"], [4, \"D\"], [5,\"E\"], [7, \"G\"], [6,\"F\"], [8, \"H\"], [10, \"J\"], [9, \"I\"]])\n",
    "mask1 = np_array[:, 0]\n",
    "mask1\n",
    "\n",
    "integers = mask1.astype(int)\n",
    "print(integers)\n",
    "\n",
    "remainders = integers%2\n",
    "print(remainders)\n",
    "\n",
    "mask2 = remainders ==1      # ask question (use of ==)  -> answer: array([True, False, ...])\n",
    "mask2\n",
    "\n"
   ]
  },
  {
   "cell_type": "code",
   "execution_count": 60,
   "id": "89eb2d73",
   "metadata": {},
   "outputs": [
    {
     "name": "stdout",
     "output_type": "stream",
     "text": [
      "['A' 'C' 'E' 'G' 'I']\n"
     ]
    }
   ],
   "source": [
    "final = np_array[mask2,1]\n",
    "final                       # final        -> array(['A', 'C', 'E', ...])\n",
    "print(final)                # print(final) -> ['A'  'C'  'E' ...]"
   ]
  },
  {
   "cell_type": "code",
   "execution_count": 49,
   "id": "4e8934f4",
   "metadata": {},
   "outputs": [
    {
     "data": {
      "text/plain": [
       "array(['4', 'd'], dtype='<U21')"
      ]
     },
     "execution_count": 49,
     "metadata": {},
     "output_type": "execute_result"
    }
   ],
   "source": [
    "py_list = [[1, \"a\"], [2, \"b\"], [3, \"c\"], [4, \"d\"]]\n",
    "np_array = np.array(py_list)\n",
    "\n",
    "py_list[3]  # gives [4, 'd']\n",
    "\n",
    "np_array[3] # gives array(['4', 'd'], dtype='<U21')"
   ]
  },
  {
   "cell_type": "code",
   "execution_count": 50,
   "id": "46d1b7d7",
   "metadata": {},
   "outputs": [
    {
     "data": {
      "text/plain": [
       "np.str_('4')"
      ]
     },
     "execution_count": 50,
     "metadata": {},
     "output_type": "execute_result"
    }
   ],
   "source": [
    "py_list[3][0]\n",
    "\n",
    "np_array[3,0]       # NumPy should use only one [ ] bracket, separate numbers by comma (it makes a difference to output in some cases)"
   ]
  },
  {
   "cell_type": "code",
   "execution_count": 24,
   "id": "19c6ae66",
   "metadata": {},
   "outputs": [
    {
     "data": {
      "text/plain": [
       "array(['1', '2', '3'], dtype='<U21')"
      ]
     },
     "execution_count": 24,
     "metadata": {},
     "output_type": "execute_result"
    }
   ],
   "source": [
    "py_list[:3][0]      # gives [1,'a']\n",
    "np_array[:3][0]     # gives array(['1', 'a'], dtype='<U21') -> output is first data set (0) from range of index 0 to 3\n",
    "np_array[:3,0]      # gives array(['1', '2', '3'], dtype='<U21')  -> output is first element of all data sets from range of index 0 to 3"
   ]
  },
  {
   "cell_type": "code",
   "execution_count": 25,
   "id": "d440cf76",
   "metadata": {},
   "outputs": [
    {
     "data": {
      "text/plain": [
       "[1, 2, 1, 2, 1, 2, 1, 2, 1, 2]"
      ]
     },
     "execution_count": 25,
     "metadata": {},
     "output_type": "execute_result"
    }
   ],
   "source": [
    "x = [1,2]*5\n",
    "x"
   ]
  },
  {
   "cell_type": "markdown",
   "id": "ffadd124",
   "metadata": {},
   "source": [
    "Appending: adding elements to a python list\\\n",
    "x = [1]\\\n",
    "x = x + [2] same as x += [2]  same as  x.append(2)\n",
    "\n",
    "For append, must use ( ) instead -> for adding a single new element to end of list\n"
   ]
  },
  {
   "cell_type": "code",
   "execution_count": 38,
   "id": "1eaa7c3f",
   "metadata": {},
   "outputs": [
    {
     "data": {
      "text/plain": [
       "[1, 2, 3, [4, 5, 6]]"
      ]
     },
     "execution_count": 38,
     "metadata": {},
     "output_type": "execute_result"
    }
   ],
   "source": [
    "x = [1, 2, 3]\n",
    "x.append([4, 5, 6])     # cannot write x.append(4, 5, 6) -> list.append() takes exactly 1 argument only. must add [] to interpret a single list [4,5,6] as a single element\n",
    "x"
   ]
  },
  {
   "cell_type": "code",
   "execution_count": 31,
   "id": "96b7c803",
   "metadata": {},
   "outputs": [
    {
     "data": {
      "text/plain": [
       "[1, 2, 3, 4, 5, 6]"
      ]
     },
     "execution_count": 31,
     "metadata": {},
     "output_type": "execute_result"
    }
   ],
   "source": [
    "x = [1, 2, 3]\n",
    "x.extend([4, 5, 6])\n",
    "x"
   ]
  },
  {
   "cell_type": "code",
   "execution_count": 35,
   "id": "38233cb2",
   "metadata": {},
   "outputs": [
    {
     "data": {
      "text/plain": [
       "[1, 2, 3, 'j', 'o', 'l', 'l', 'y']"
      ]
     },
     "execution_count": 35,
     "metadata": {},
     "output_type": "execute_result"
    }
   ],
   "source": [
    "x = [1, 2, 3]\n",
    "x.extend('jolly')   # every input is individually segmented as an element: 1, 36, j, k, etc.  -> multiple elements added to end of list\n",
    "x\n"
   ]
  },
  {
   "cell_type": "code",
   "execution_count": 36,
   "id": "1de39551",
   "metadata": {},
   "outputs": [
    {
     "data": {
      "text/plain": [
       "[1, 2, 3, 'jolly']"
      ]
     },
     "execution_count": 36,
     "metadata": {},
     "output_type": "execute_result"
    }
   ],
   "source": [
    "x = [1, 2, 3]\n",
    "x.append('jolly')\n",
    "x"
   ]
  },
  {
   "cell_type": "markdown",
   "id": "bd81de35",
   "metadata": {},
   "source": [
    "## Exercise 3"
   ]
  },
  {
   "cell_type": "code",
   "execution_count": 80,
   "id": "98805cbe",
   "metadata": {},
   "outputs": [
    {
     "name": "stdout",
     "output_type": "stream",
     "text": [
      "[[ 1  0  1 -1 -1]\n",
      " [ 1 -1  1 -1 -1]\n",
      " [ 1 -1 -1  1 -1]\n",
      " [-1  1  1 -1 -1]\n",
      " [ 1 -1  1 -1  1]]\n"
     ]
    }
   ],
   "source": [
    "x = [[66, 50, 57, -1, -1], [92, -1, 88, -1, -1], [75, -1, -1,76, -1], [-1, 51, 87,- 1,- 1], [71, -1, 67, -1, 69]]\n",
    "np_array = np.array(x)\n",
    "\n",
    "np_array[np_array > 50] = 1\n",
    "np_array[np_array ==50] = 0\n",
    "\n",
    "print(np_array)"
   ]
  },
  {
   "cell_type": "code",
   "execution_count": 2,
   "id": "47653c80",
   "metadata": {},
   "outputs": [
    {
     "data": {
      "text/plain": [
       "array([66, 57, 92, 88, 75, 76, 51, 87, 71, 67, 69])"
      ]
     },
     "execution_count": 2,
     "metadata": {},
     "output_type": "execute_result"
    }
   ],
   "source": [
    "import numpy as np\n",
    "x = [[66, 50, 57, -1, -1], \n",
    "     [92, -1, 88, -1, -1], \n",
    "     [75, -1, -1,76, -1], \n",
    "     [-1, 51, 87,- 1,- 1], \n",
    "     [71, -1, 67, -1, 69]]\n",
    "\n",
    "np_array = np.array(x)\n",
    "\n",
    "# this isn't necessary!⌄  can do without extra variable\n",
    "mask1 = np_array > 50  \n",
    "mask1             # array([[ True, False,  True, False, False], ...\n",
    "np_array[mask1]   # array([66, 57, 92, 88, 75, 76, 51, 87, 71, 67, 69])\n",
    "\n",
    "mask2 = np_array[np_array >50]\n",
    "mask2             # array([66, 57, 92, 88, 75, 76, 51, 87, 71, 67, 69])"
   ]
  },
  {
   "cell_type": "markdown",
   "id": "b4ca054c",
   "metadata": {},
   "source": []
  }
 ],
 "metadata": {
  "kernelspec": {
   "display_name": "base",
   "language": "python",
   "name": "python3"
  },
  "language_info": {
   "codemirror_mode": {
    "name": "ipython",
    "version": 3
   },
   "file_extension": ".py",
   "mimetype": "text/x-python",
   "name": "python",
   "nbconvert_exporter": "python",
   "pygments_lexer": "ipython3",
   "version": "3.13.5"
  },
  "toc": {
   "base_numbering": 1,
   "nav_menu": {},
   "number_sections": true,
   "sideBar": true,
   "skip_h1_title": false,
   "title_cell": "Table of Contents",
   "title_sidebar": "Contents",
   "toc_cell": false,
   "toc_position": {},
   "toc_section_display": true,
   "toc_window_display": false
  }
 },
 "nbformat": 4,
 "nbformat_minor": 5
}
