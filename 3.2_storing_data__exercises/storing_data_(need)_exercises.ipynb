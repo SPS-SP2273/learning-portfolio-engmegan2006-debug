{
 "cells": [
  {
   "attachments": {},
   "cell_type": "markdown",
   "id": "123456",
   "metadata": {},
   "source": [
    "<div style=\"text-align:left;font-size:2em\"><span style=\"font-weight:bolder;font-size:1.25em\">SP2273 | Learning Portfolio</span><br><br><span style=\"font-weight:bold;color:darkred\">Storing Data (Need) Exercises</span></div>"
   ]
  },
  {
   "cell_type": "code",
   "execution_count": 1,
   "id": "9156ec25",
   "metadata": {},
   "outputs": [],
   "source": [
    "# .shape gives the dimensions of an Numpy array\n",
    "# it is a property of array, NOT a function\n",
    "\n",
    "import numpy as np"
   ]
  },
  {
   "cell_type": "markdown",
   "id": "d7139b42",
   "metadata": {},
   "source": [
    "Python Lists"
   ]
  },
  {
   "cell_type": "code",
   "execution_count": null,
   "id": "73863d06",
   "metadata": {},
   "outputs": [
    {
     "data": {
      "text/plain": [
       "['A0', 'B1']"
      ]
     },
     "execution_count": 7,
     "metadata": {},
     "output_type": "execute_result"
    }
   ],
   "source": [
    "super_names1 = [\"A0\", \"B1\", \"C2\", \"D3\", \"E4\", \"F5\", \"G6\"]\n",
    "real_names1 = [\"a\", \"b,\", \"c\"]\n",
    "\n",
    "# len() function is for lists -> determine number of items in a list\n",
    "\n",
    "super_names1[0:2]     # [0:2] means start at position 0,give 2-0=2 elements"
   ]
  },
  {
   "cell_type": "code",
   "execution_count": null,
   "id": "0290cbb5",
   "metadata": {},
   "outputs": [
    {
     "data": {
      "text/plain": [
       "3"
      ]
     },
     "execution_count": 12,
     "metadata": {},
     "output_type": "execute_result"
    }
   ],
   "source": [
    "len(real_names1)\n"
   ]
  },
  {
   "cell_type": "code",
   "execution_count": null,
   "id": "f26a8e86",
   "metadata": {},
   "outputs": [
    {
     "data": {
      "text/plain": [
       "['F5', 'E4', 'D3']"
      ]
     },
     "execution_count": 13,
     "metadata": {},
     "output_type": "execute_result"
    }
   ],
   "source": [
    "super_names1[5:2:-1]  # [5:2:-1] means start at position 5, reverse in steps of -1, to position 2 (total 3 elements printed)\n"
   ]
  },
  {
   "cell_type": "markdown",
   "id": "78a2b4aa",
   "metadata": {},
   "source": [
    "NumPy Arrays"
   ]
  },
  {
   "cell_type": "code",
   "execution_count": 19,
   "id": "35428a6c",
   "metadata": {},
   "outputs": [
    {
     "data": {
      "text/plain": [
       "3"
      ]
     },
     "execution_count": 19,
     "metadata": {},
     "output_type": "execute_result"
    }
   ],
   "source": [
    "super_names2 = np.array([\"A\",\"B\", \"C\"])\n",
    "real_names2 = np.array([\"a\", \"b\",\"c\"])  \n",
    "\n",
    "len(real_names2)\n",
    "\n",
    "# order matters for lists and arrays; put corresponding info at same position in each list                                                                                                                                         \n",
    "# if convert a list into NumPy array, all data converted to one single data type (string/ float/ integer)\n",
    "# if list dataset contained both integers and text, now all converted to text (since number can be an english word, but not vice versa)"
   ]
  },
  {
   "cell_type": "code",
   "execution_count": 21,
   "id": "fd63eaf3",
   "metadata": {},
   "outputs": [
    {
     "data": {
      "text/plain": [
       "(1, 4, 2)"
      ]
     },
     "execution_count": 21,
     "metadata": {},
     "output_type": "execute_result"
    }
   ],
   "source": [
    "py_list_2d = [ [1,\"A\"], [2,\"B\"], [3,\"C\"], [4,\"D\"]]\n",
    "np_array_2d = np.array([py_list_2d])\n",
    "\n",
    "np_array_2d.shape\n",
    "\n",
    "\n",
    "\n",
    "\n"
   ]
  },
  {
   "cell_type": "markdown",
   "id": "6ab6b983",
   "metadata": {},
   "source": [
    "Dictionary"
   ]
  },
  {
   "cell_type": "code",
   "execution_count": null,
   "id": "97205618",
   "metadata": {},
   "outputs": [
    {
     "data": {
      "text/plain": [
       "'a'"
      ]
     },
     "execution_count": 9,
     "metadata": {},
     "output_type": "execute_result"
    }
   ],
   "source": [
    "superhero_info = {\n",
    "    \"A\": \"a\",\n",
    "    \"B\": \"b\",               # key \"A\": associated value \"a\"\n",
    "    \"C\": \"c\"\n",
    "\n",
    "}\n",
    "\n",
    "py_superhero_info[\"A\"]"
   ]
  },
  {
   "cell_type": "code",
   "execution_count": 10,
   "id": "66d27777",
   "metadata": {},
   "outputs": [
    {
     "name": "stdout",
     "output_type": "stream",
     "text": [
      "x=[1, 2, 3] y=[1, 2, 3] z=[1, 2, 3]\n",
      "x=[1, 2, 3, 1] y=[1, 2, 3] z=[1, 2, 3, 1000]\n"
     ]
    }
   ],
   "source": [
    "x=[1,2,3]\n",
    "y=x.copy()\n",
    "z=x.copy()      #don't just write z=x\n",
    "\n",
    "print(f'{x=}',f'{y=}',f'{z=}')\n",
    "\n",
    "x.append(1)\n",
    "z.append(1000)\n",
    "print(f'{x=}',f'{y=}',f'{z=}')"
   ]
  },
  {
   "cell_type": "code",
   "execution_count": 11,
   "id": "80260016",
   "metadata": {},
   "outputs": [
    {
     "data": {
      "text/plain": [
       "np.True_"
      ]
     },
     "execution_count": 11,
     "metadata": {},
     "output_type": "execute_result"
    }
   ],
   "source": [
    "import numpy as np\n",
    "null = 1E-10\n",
    "a = 0.1\n",
    "a3 = 0.3\n",
    "a*3 - a3 < null  # true\n",
    "a*3 == a3        # false\n",
    "np.isclose(a*3, a3)"
   ]
  },
  {
   "cell_type": "markdown",
   "id": "c28fed4e",
   "metadata": {},
   "source": [
    "## Exercises\n",
    "\n",
    "### Exercise 1\n",
    "\n",
    "A. Differences between lists and arrays\n",
    "\n",
    "1. Numpy arrays can perform more operations, such as \n",
    "    1.  array.shape to determine dimensions of array\n",
    "    2. array.sum(), array.std(), array.mean()\n",
    "2. For some operations, lists are treated as a whole unit, while arrays are treated by individual component elements.\n",
    "    1. mathematical operation: adding/ multiplying to list/ array\n",
    "    2. adding list/ array to existing list/array\n",
    "    3. unable to square lists\n",
    "3. When asking questions, \n",
    "    1. array > 0   → array will give true/false for each element\n",
    "    2. list > 0        → false/ error depending on mathematical question (> or == or <)\n",
    "4. Lists can have different types of data (str, int, float, etc.) while array can only have one within it\n",
    "    1. array will adopt the broadest data type that applies to all elements within it\n",
    "\n",
    "B. Similarities between lists and arrays\n",
    "\n",
    "1. For both, two lists/ arrays require elements to be input in corresponding order for values to be retrieve together\n",
    "2. Both share some functions, like len(), and using index to retrieve data by position in the list/array.\n",
    "\n",
    "\n",
    "3. What is a dictionary?\n",
    "    A type of data storage where a value can be retrieved with a corresponding key. Dictionary can contain many pairs of keys and values."
   ]
  },
  {
   "cell_type": "markdown",
   "id": "32730268",
   "metadata": {},
   "source": [
    "### Exercsie 2"
   ]
  },
  {
   "cell_type": "code",
   "execution_count": null,
   "id": "532b144b",
   "metadata": {},
   "outputs": [
    {
     "name": "stdout",
     "output_type": "stream",
     "text": [
      "a1\n",
      "c3\n",
      "e5\n",
      "g7\n",
      "i9\n"
     ]
    }
   ],
   "source": [
    "py_list = ['a1', 'b2', 'c3', 'd4', 'e5', 'f6', 'g7', 'h8', 'i9', 'j10' ]\n",
    "\n",
    "print(py_list[0])\n",
    "print(py_list[2]) \n",
    "print(py_list[4])\n",
    "print(py_list[6])\n",
    "print(py_list[8])       # python uses zero-index: position 0 gives a1 (1st element), position 8 gives i9 (9th element)"
   ]
  },
  {
   "cell_type": "markdown",
   "id": "3422247a",
   "metadata": {},
   "source": [
    "### Exercise 3"
   ]
  },
  {
   "cell_type": "code",
   "execution_count": 28,
   "id": "6fbccce3",
   "metadata": {},
   "outputs": [
    {
     "name": "stdout",
     "output_type": "stream",
     "text": [
      "Boron\n",
      "Nitrogen\n"
     ]
    }
   ],
   "source": [
    "elements = [ 'Hydrogen', 'Helium', 'Lithium', 'Beryllium', 'Boron', 'Carbon', 'Nitrogen', 'Oxygen', 'Fluorine', 'Neon']\n",
    "\n",
    "print(elements[4])\n",
    "print(elements[-4])"
   ]
  },
  {
   "cell_type": "code",
   "execution_count": 30,
   "id": "5aeb2c12",
   "metadata": {},
   "outputs": [
    {
     "data": {
      "text/plain": [
       "2"
      ]
     },
     "execution_count": 30,
     "metadata": {},
     "output_type": "execute_result"
    }
   ],
   "source": [
    "fruits = ['aple', 'bana', 'cherry']\n",
    "x = fruits.index('cherry')\n",
    "x"
   ]
  },
  {
   "cell_type": "markdown",
   "id": "ad1d952e",
   "metadata": {},
   "source": [
    "### Exercise 4"
   ]
  },
  {
   "cell_type": "code",
   "execution_count": null,
   "id": "651893f5",
   "metadata": {},
   "outputs": [
    {
     "data": {
      "text/plain": [
       "np.int64(9)"
      ]
     },
     "execution_count": 13,
     "metadata": {},
     "output_type": "execute_result"
    }
   ],
   "source": [
    "import numpy as np\n",
    "numbers=[45, 60, 1, 30, 96, 1, 96, 57, 16, 1,\n",
    "        99, 62, 86, 43, 42, 60, 59, 1, 1, 35,\n",
    "        83, 47, 34, 28, 68, 23, 22, 92, 1, 79,\n",
    "        1, 29, 94, 72, 46, 47, 1, 74, 32, 20,\n",
    "        8, 37, 35, 1, 89, 29, 86, 19, 43, 61]                  \n",
    "\n",
    "numbers = np.array(numbers)\n",
    "numbers == 1        # will give: array([False, True, ...])\n",
    "(numbers == 1).sum()\n",
    "# principle already encoded by python: false is considered 0, true is considered 1\n",
    "# no need to code for this rule myself"
   ]
  },
  {
   "cell_type": "code",
   "execution_count": null,
   "id": "88c49f37",
   "metadata": {},
   "outputs": [
    {
     "data": {
      "text/plain": [
       "np.int64(3)"
      ]
     },
     "execution_count": 88,
     "metadata": {},
     "output_type": "execute_result"
    }
   ],
   "source": [
    "numbers = np.array([ 45, 60, 1, 30, 96, 1, 96, 57, 16, 1])\n",
    "mask = numbers == 1     # mask is now array([False, True, ...])\n",
    "mask.sum()              # only True subset will be seen, hence added to sum\n"
   ]
  },
  {
   "cell_type": "markdown",
   "id": "d4178958",
   "metadata": {},
   "source": [
    "## Exercise 5"
   ]
  },
  {
   "cell_type": "code",
   "execution_count": 2,
   "id": "8e35dd34",
   "metadata": {},
   "outputs": [
    {
     "name": "stdout",
     "output_type": "stream",
     "text": [
      "pearson's correlation coefficient r: 0.9871796626270701\n"
     ]
    }
   ],
   "source": [
    "import numpy as np\n",
    "x_1 = [1, 4, 9, 16, 25, 36, 49, 64, 81, 100]\n",
    "x_2 = [1, 8, 27, 64, 125, 216, 343, 512, 729, 1000]\n",
    "\n",
    "np_x1 = np.array([x_1])\n",
    "np_x2 = np.array([x_2])\n",
    "\n",
    "np_x1.mean()\n",
    "np_x2.mean()\n",
    "\n",
    "np_x1.std()\n",
    "np_x2.std()\n",
    "\n",
    "n = len(x_1)\n",
    "\n",
    "sum_x = np.sum(np_x1)\n",
    "sum_y = np.sum(np_x2)\n",
    "sum_xy = np.sum(np_x1 * np_x2)\n",
    "sum_x_squared = np.sum(np_x1**2)\n",
    "sum_y_squared = np.sum(np_x2**2)\n",
    "\n",
    "numerator = (n * sum_xy) - (sum_x * sum_y)\n",
    "denominator = np.sqrt(((n * sum_x_squared) - (sum_x**2)) * ((n * sum_y_squared) - (sum_y**2)))\n",
    "\n",
    "r = numerator / denominator\n",
    "\n",
    "print(\"pearson's correlation coefficient r:\", r)"
   ]
  },
  {
   "cell_type": "code",
   "execution_count": 83,
   "id": "8c01a79a",
   "metadata": {},
   "outputs": [
    {
     "name": "stdout",
     "output_type": "stream",
     "text": [
      "[[1.         0.98717966]\n",
      " [0.98717966 1.        ]]\n"
     ]
    }
   ],
   "source": [
    "r = np.corrcoef(np_x1, np_x2)\n",
    "print(r)"
   ]
  },
  {
   "cell_type": "code",
   "execution_count": null,
   "id": "a69e60d6",
   "metadata": {},
   "outputs": [
    {
     "data": {
      "text/plain": [
       "array([[1.        , 0.98717966],\n",
       "       [0.98717966, 1.        ]])"
      ]
     },
     "execution_count": 80,
     "metadata": {},
     "output_type": "execute_result"
    }
   ],
   "source": [
    "\n",
    "np.corrcoef(np_x1, np_x2)\n"
   ]
  }
 ],
 "metadata": {
  "kernelspec": {
   "display_name": "base",
   "language": "python",
   "name": "python3"
  },
  "language_info": {
   "codemirror_mode": {
    "name": "ipython",
    "version": 3
   },
   "file_extension": ".py",
   "mimetype": "text/x-python",
   "name": "python",
   "nbconvert_exporter": "python",
   "pygments_lexer": "ipython3",
   "version": "3.13.5"
  },
  "toc": {
   "base_numbering": 1,
   "nav_menu": {},
   "number_sections": true,
   "sideBar": true,
   "skip_h1_title": false,
   "title_cell": "Table of Contents",
   "title_sidebar": "Contents",
   "toc_cell": false,
   "toc_position": {},
   "toc_section_display": true,
   "toc_window_display": false
  }
 },
 "nbformat": 4,
 "nbformat_minor": 5
}
