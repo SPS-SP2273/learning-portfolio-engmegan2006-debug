{
 "cells": [
  {
   "attachments": {},
   "cell_type": "markdown",
   "id": "123456",
   "metadata": {},
   "source": [
    "<div style=\"text-align:left;font-size:2em\"><span style=\"font-weight:bolder;font-size:1.25em\">SP2273 | Learning Portfolio</span><br><br><span style=\"font-weight:bold;color:darkred\">Fundamentals (Need) Exercises</span></div>"
   ]
  },
  {
   "cell_type": "code",
   "execution_count": 15,
   "id": "755f084f",
   "metadata": {},
   "outputs": [
    {
     "data": {
      "text/plain": [
       "True"
      ]
     },
     "execution_count": 15,
     "metadata": {},
     "output_type": "execute_result"
    }
   ],
   "source": [
    "name = 'Hello Batman' \n",
    "name == 'Hello Batman'\n",
    "# Multi-type: click starting point in first line + press 'alt' + click starting point next line \n",
    "# will input 'Hello' in both lines at the selected spot"
   ]
  },
  {
   "cell_type": "code",
   "execution_count": 1,
   "id": "a7824b52",
   "metadata": {},
   "outputs": [],
   "source": [
    "def func(x, y, z):\n",
    "    if x is None:\n",
    "        print('xxx')\n",
    "    else:\n",
    "        print('yyyyy')\n",
    "         \n",
    "# indent-rainbow extension function: makes indents more visible"
   ]
  },
  {
   "cell_type": "code",
   "execution_count": 4,
   "id": "b6bd7ff5",
   "metadata": {},
   "outputs": [
    {
     "name": "stdout",
     "output_type": "stream",
     "text": [
      "Hello World---Gotcha\n",
      "Hello WOrld Gotcha\n"
     ]
    }
   ],
   "source": [
    "print('Hello World', 'Gotcha', sep='---')\n",
    "# sep= ' ' replaces single blank space with a separator\n",
    "print('Hello WOrld ', 'Gotcha')"
   ]
  },
  {
   "cell_type": "code",
   "execution_count": null,
   "id": "f00f1721",
   "metadata": {},
   "outputs": [],
   "source": [
    "import math\n",
    "# import math package to imbue more math skills like below"
   ]
  },
  {
   "cell_type": "code",
   "execution_count": 6,
   "id": "a7c3a376",
   "metadata": {},
   "outputs": [
    {
     "data": {
      "text/plain": [
       "2.0"
      ]
     },
     "execution_count": 6,
     "metadata": {},
     "output_type": "execute_result"
    }
   ],
   "source": [
    "math.sqrt(4)"
   ]
  },
  {
   "cell_type": "code",
   "execution_count": 8,
   "id": "96e9ec97",
   "metadata": {},
   "outputs": [],
   "source": [
    "import numpy as np   \n",
    "# np is now the alias of numpy"
   ]
  },
  {
   "cell_type": "code",
   "execution_count": 13,
   "id": "23ec4ff1",
   "metadata": {},
   "outputs": [
    {
     "data": {
      "text/plain": [
       "np.float64(2.0)"
      ]
     },
     "execution_count": 13,
     "metadata": {},
     "output_type": "execute_result"
    }
   ],
   "source": [
    "np.sqrt(4)"
   ]
  },
  {
   "cell_type": "code",
   "execution_count": 28,
   "id": "d6c61517",
   "metadata": {},
   "outputs": [
    {
     "data": {
      "text/plain": [
       "array([2., 3., 4.])"
      ]
     },
     "execution_count": 28,
     "metadata": {},
     "output_type": "execute_result"
    }
   ],
   "source": [
    "np.sqrt([4, 9, 16])\n",
    "# numPy.sqrt can solve a list, giving an array of values. math.sqrt cannot do this"
   ]
  },
  {
   "cell_type": "code",
   "execution_count": 14,
   "id": "b16ae010",
   "metadata": {},
   "outputs": [
    {
     "data": {
      "text/plain": [
       "['I', 'am', 'Batman']"
      ]
     },
     "execution_count": 14,
     "metadata": {},
     "output_type": "execute_result"
    }
   ],
   "source": [
    "('I am Batman').split()"
   ]
  },
  {
   "cell_type": "markdown",
   "id": "1d283e87",
   "metadata": {},
   "source": [
    "## Exercise 1\n",
    "Brackets: (input behind function), [for lists], {for data stored in dictionary}\n",
    "\n",
    "Dot(.): to access a property/ feature of what comes before the dot.\n",
    "(eg. to split a string, obtain the shape of a list)\n",
    "\n",
    "Indentations: execute a function if given condition above holds true (used with 'while True:' or if xx = 'yyy')\n",
    "\n",
    "Variable:\\\n",
    "'x' is a word, while\\\n",
    "x is a variable in x = 'yyy'\\\n",
    "print (x) will give -> yyy\n",
    "\n",
    "\n",
    "x == 'yyy'\n",
    "Output when run python: 'True'"
   ]
  },
  {
   "cell_type": "code",
   "execution_count": 4,
   "id": "0836a5b2",
   "metadata": {},
   "outputs": [
    {
     "name": "stdout",
     "output_type": "stream",
     "text": [
      "yyy\n"
     ]
    },
    {
     "data": {
      "text/plain": [
       "'yyy'"
      ]
     },
     "execution_count": 4,
     "metadata": {},
     "output_type": "execute_result"
    }
   ],
   "source": [
    "x = 'yyy'\n",
    "print(x)\n",
    "x"
   ]
  },
  {
   "cell_type": "markdown",
   "id": "ed38a25b",
   "metadata": {},
   "source": [
    "## Exercise 2"
   ]
  },
  {
   "cell_type": "code",
   "execution_count": 2,
   "id": "6525bc00",
   "metadata": {},
   "outputs": [
    {
     "name": "stdout",
     "output_type": "stream",
     "text": [
      "5\n",
      "3, 4, 5\n"
     ]
    }
   ],
   "source": [
    "import math         # must this step be done every time I open this kernel??\n",
    "x, y = 3, 4\n",
    "z = int(math.sqrt(x**2 + y**2))     # add int() to convert z float value 5.0 to integer value 5\n",
    "print(z)\n",
    "print (x, y, z, sep=\", \")"
   ]
  },
  {
   "cell_type": "markdown",
   "id": "d48d8201",
   "metadata": {},
   "source": [
    "## Exercise 3"
   ]
  },
  {
   "cell_type": "markdown",
   "id": "5fcd3c4c",
   "metadata": {},
   "source": [
    "| # | Term | Description|\n",
    "|:--:|:---|:---|\n",
    "|  1 | Function  | an instruction to be carried out by itself or on an argument within (parentheses) behind the called function |\n",
    "|   2|  Arguments | The input to a function  |\n",
    "| 3  |  Comments |  additional text for describing/ explaining code. written after a # in code cell. it is not processed as code itself |\n",
    "|  4 |  Indentations |  Assigns code in indented line to be executed only if the above condition holds true |\n",
    "|  5 | Packages  | a set of functions that can be imported into Python so we can utilise greater variety of functions |\n",
    "|6   | .  |  to access a property/ feature of what comes before the dot |\n",
    "| 7  | :  |  to designate the code in indented line below to be executed only if the condition before : holds true |\n",
    "|  8 |  [] | defines a list, which is an ordered sequence of elements |\n",
    "|   9| [[],[]]  | allows for lists to be stored together in a larger list  |\n",
    "|10   | {}  | creates a dictionary, which is a storage of data of multiple variables  |\n"
   ]
  },
  {
   "cell_type": "markdown",
   "id": "f95a6fc5",
   "metadata": {},
   "source": [
    "## Exercise 4 - Division"
   ]
  },
  {
   "cell_type": "code",
   "execution_count": null,
   "id": "20a6724e",
   "metadata": {},
   "outputs": [
    {
     "data": {
      "text/plain": [
       "5"
      ]
     },
     "execution_count": 47,
     "metadata": {},
     "output_type": "execute_result"
    }
   ],
   "source": [
    "17//3   # this gives quotient output; remainder is excluded"
   ]
  },
  {
   "cell_type": "code",
   "execution_count": null,
   "id": "c8a22347",
   "metadata": {},
   "outputs": [
    {
     "data": {
      "text/plain": [
       "2"
      ]
     },
     "execution_count": 50,
     "metadata": {},
     "output_type": "execute_result"
    }
   ],
   "source": [
    "17%3     # this gives remainder output, quotient is excluded"
   ]
  },
  {
   "cell_type": "code",
   "execution_count": null,
   "id": "5f5827f6",
   "metadata": {},
   "outputs": [
    {
     "data": {
      "text/plain": [
       "5.666666666666667"
      ]
     },
     "execution_count": 51,
     "metadata": {},
     "output_type": "execute_result"
    }
   ],
   "source": [
    "17/3     #this gives decimated value, no integer quotient or remainder"
   ]
  }
 ],
 "metadata": {
  "kernelspec": {
   "display_name": "base",
   "language": "python",
   "name": "python3"
  },
  "language_info": {
   "codemirror_mode": {
    "name": "ipython",
    "version": 3
   },
   "file_extension": ".py",
   "mimetype": "text/x-python",
   "name": "python",
   "nbconvert_exporter": "python",
   "pygments_lexer": "ipython3",
   "version": "3.13.5"
  },
  "toc": {
   "base_numbering": 1,
   "nav_menu": {},
   "number_sections": true,
   "sideBar": true,
   "skip_h1_title": false,
   "title_cell": "Table of Contents",
   "title_sidebar": "Contents",
   "toc_cell": false,
   "toc_position": {},
   "toc_section_display": true,
   "toc_window_display": false
  }
 },
 "nbformat": 4,
 "nbformat_minor": 5
}
