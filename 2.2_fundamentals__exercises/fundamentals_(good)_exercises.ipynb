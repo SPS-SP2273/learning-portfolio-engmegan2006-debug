{
 "cells": [
  {
   "attachments": {},
   "cell_type": "markdown",
   "id": "123456",
   "metadata": {},
   "source": [
    "<div style=\"text-align:left;font-size:2em\"><span style=\"font-weight:bolder;font-size:1.25em\">SP2273 | Learning Portfolio</span><br><br><span style=\"font-weight:bold;color:darkred\">Fundamentals (Good) Exercises</span></div>"
   ]
  },
  {
   "cell_type": "code",
   "execution_count": null,
   "id": "402888f6",
   "metadata": {},
   "outputs": [
    {
     "name": "stdout",
     "output_type": "stream",
     "text": [
      "That's great\n"
     ]
    }
   ],
   "source": [
    "name = \"Batman\"             # blue-coloured term: a variable\n",
    "if name == \"Batman\":        # \n",
    "    print(\"That's great\")\n",
    "elif name == \"Robin\":\n",
    "    print(\"THat's fine too\")\n",
    "else:\n",
    "    print('Aw man')\n",
    "\n",
    "# can use either \"\" or '', but should be consistent as \" \" since ' can be present in the argument with a different purpose (as an apostrophe)\n",
    "print('eat hotdogs like it's)\n",
    "print('eat hotdogs like it\\'s')\n",
    "# can use \\' for apostrophe to remain part of string, not end of string\n",
    "\n",
    "# elif = else if -> this gives instruction for when a specific alternative condition holds true"
   ]
  },
  {
   "cell_type": "code",
   "execution_count": 5,
   "id": "7ddea19e",
   "metadata": {},
   "outputs": [],
   "source": [
    "# str represents string (word/ syntax?)\n",
    "# float represents decimal number "
   ]
  },
  {
   "cell_type": "code",
   "execution_count": 6,
   "id": "4b2ec08c",
   "metadata": {},
   "outputs": [
    {
     "name": "stdout",
     "output_type": "stream",
     "text": [
      "what is that <class 'str'>\n"
     ]
    }
   ],
   "source": [
    "x = str('what is that')\n",
    "print(x, type(x))"
   ]
  },
  {
   "cell_type": "code",
   "execution_count": 7,
   "id": "427cf99d",
   "metadata": {},
   "outputs": [
    {
     "name": "stdout",
     "output_type": "stream",
     "text": [
      "what is that <class 'str'>\n"
     ]
    }
   ],
   "source": [
    "x = 'what is that'\n",
    "print(x, type(x))"
   ]
  },
  {
   "cell_type": "code",
   "execution_count": null,
   "id": "b0c87330",
   "metadata": {},
   "outputs": [
    {
     "name": "stdout",
     "output_type": "stream",
     "text": [
      "1 <class 'int'>\n"
     ]
    }
   ],
   "source": [
    "x = int(1.234)      # 1.234 is truncated to give integer 1\n",
    "print(x, type(x))"
   ]
  },
  {
   "cell_type": "code",
   "execution_count": null,
   "id": "8ad0a462",
   "metadata": {},
   "outputs": [
    {
     "name": "stdout",
     "output_type": "stream",
     "text": [
      "0.30000000000000004\n"
     ]
    }
   ],
   "source": [
    "a = 0.1\n",
    "a3 = 0.3\n",
    "print(a*3)"
   ]
  },
  {
   "cell_type": "code",
   "execution_count": 11,
   "id": "5fde3df0",
   "metadata": {},
   "outputs": [
    {
     "data": {
      "text/plain": [
       "False"
      ]
     },
     "execution_count": 11,
     "metadata": {},
     "output_type": "execute_result"
    }
   ],
   "source": [
    "a*3 == a3"
   ]
  },
  {
   "cell_type": "code",
   "execution_count": 17,
   "id": "0e199f78",
   "metadata": {},
   "outputs": [],
   "source": [
    "import numpy as np"
   ]
  },
  {
   "cell_type": "code",
   "execution_count": 18,
   "id": "220bc9cc",
   "metadata": {},
   "outputs": [
    {
     "data": {
      "text/plain": [
       "np.True_"
      ]
     },
     "execution_count": 18,
     "metadata": {},
     "output_type": "execute_result"
    }
   ],
   "source": [
    "np.isclose(a*3, a3)"
   ]
  },
  {
   "cell_type": "code",
   "execution_count": null,
   "id": "fb5ec2e0",
   "metadata": {},
   "outputs": [
    {
     "name": "stdout",
     "output_type": "stream",
     "text": [
      "Hello Toopee!\n",
      "Hello TOOPEE!\n",
      "Toopee\n",
      "the value of 10 squared is 100\n",
      "The value of pi to 6 dp is 3.141593\n",
      "The value of pi to 6 dp is 3.141593e+00\n",
      "Line 1\n",
      "\tLine2\n",
      "\t\tLine 3\n"
     ]
    }
   ],
   "source": [
    "# f string/ string interpolation\n",
    "\n",
    "text = name = \"Toopee\"\n",
    "print(f\"Hello {name}!\")\n",
    "print(f\"Hello {name.upper()}!\")\n",
    "print(f\"{text}\")\n",
    "x = 10\n",
    "print(f\"the value of {x} squared is {x**2}\")\n",
    "print(f\"The value of pi to 6 dp is {np.pi:.6f}\")\n",
    "print(f\"The value of pi to 6 dp is {np.pi:5.6e}\")\n",
    "# the f in .6f is used to tell the f-string to output the number in decimal notation\n",
    "# the e in .6e is used to tell the f-string to output the number in scientific notation\n",
    "\n",
    "# diff types of variables:f(float), d(integer), s(string)\n",
    "\n",
    "print('Line 1\\n\\tLine2\\n\\t\\tLine 3')\n",
    "# command \\n breaks line\n",
    "# command \\t represents a tab (indentation)\n"
   ]
  },
  {
   "cell_type": "code",
   "execution_count": 35,
   "id": "ee32473f",
   "metadata": {},
   "outputs": [
    {
     "name": "stdout",
     "output_type": "stream",
     "text": [
      "A\\B\\C\n"
     ]
    }
   ],
   "source": [
    "print('A\\\\B\\\\C')\n",
    "# to print '\\' must use '\\\\' instead\n"
   ]
  },
  {
   "cell_type": "code",
   "execution_count": 1,
   "id": "c1b4ba22",
   "metadata": {},
   "outputs": [
    {
     "name": "stdout",
     "output_type": "stream",
     "text": [
      "A\\B\\C\n"
     ]
    },
    {
     "name": "stderr",
     "output_type": "stream",
     "text": [
      "<>:1: SyntaxWarning: invalid escape sequence '\\B'\n",
      "<>:1: SyntaxWarning: invalid escape sequence '\\B'\n",
      "C:\\Users\\Magnesia\\AppData\\Local\\Temp\\ipykernel_25496\\4209481580.py:1: SyntaxWarning: invalid escape sequence '\\B'\n",
      "  print('A\\B\\C')\n"
     ]
    }
   ],
   "source": [
    "print('A\\B\\C')"
   ]
  },
  {
   "cell_type": "code",
   "execution_count": 45,
   "id": "1d762754",
   "metadata": {},
   "outputs": [
    {
     "data": {
      "text/plain": [
       "True"
      ]
     },
     "execution_count": 45,
     "metadata": {},
     "output_type": "execute_result"
    }
   ],
   "source": [
    "fruits = [\"apple\", \"banana\"]\n",
    "vegetables = [\"celery\", \"kale\"]\n",
    "\"apple\" in fruits\n",
    "\"peach\" not in fruits\n",
    "\"apple\" in fruits and \"celery\" in vegetables\n",
    "\"apple\" in fruits or \"donut\" in vegetables\n",
    "# above questions are all answered: True\n",
    "# 'not', 'in', 'and' 'or' can be used to ask questions"
   ]
  },
  {
   "cell_type": "code",
   "execution_count": 46,
   "id": "8c772eb1",
   "metadata": {},
   "outputs": [
    {
     "data": {
      "text/plain": [
       "False"
      ]
     },
     "execution_count": 46,
     "metadata": {},
     "output_type": "execute_result"
    }
   ],
   "source": [
    "3 > 10"
   ]
  },
  {
   "cell_type": "code",
   "execution_count": null,
   "id": "e3232b6b",
   "metadata": {},
   "outputs": [
    {
     "ename": "TypeError",
     "evalue": "'>' not supported between instances of 'int' and 'str'",
     "output_type": "error",
     "traceback": [
      "\u001b[31m---------------------------------------------------------------------------\u001b[39m",
      "\u001b[31mTypeError\u001b[39m                                 Traceback (most recent call last)",
      "\u001b[36mCell\u001b[39m\u001b[36m \u001b[39m\u001b[32mIn[49]\u001b[39m\u001b[32m, line 1\u001b[39m\n\u001b[32m----> \u001b[39m\u001b[32m1\u001b[39m \u001b[32;43m3\u001b[39;49m\u001b[43m \u001b[49m\u001b[43m>\u001b[49m\u001b[43m \u001b[49m\u001b[33;43m'\u001b[39;49m\u001b[33;43mapple\u001b[39;49m\u001b[33;43m'\u001b[39;49m\n\u001b[32m      2\u001b[39m \u001b[38;5;66;03m# Python cannot compare different types of elements (integers & string)\u001b[39;00m\n",
      "\u001b[31mTypeError\u001b[39m: '>' not supported between instances of 'int' and 'str'"
     ]
    }
   ],
   "source": [
    "3 > 'apple'\n",
    "# Python cannot compare different types of elements (integers & string)"
   ]
  },
  {
   "cell_type": "code",
   "execution_count": 48,
   "id": "fcca9bcc",
   "metadata": {},
   "outputs": [
    {
     "data": {
      "text/plain": [
       "False"
      ]
     },
     "execution_count": 48,
     "metadata": {},
     "output_type": "execute_result"
    }
   ],
   "source": [
    "'apple' > 'orange'"
   ]
  },
  {
   "cell_type": "code",
   "execution_count": 16,
   "id": "0403e85c",
   "metadata": {},
   "outputs": [
    {
     "name": "stdout",
     "output_type": "stream",
     "text": [
      "42 and 24\n",
      "x=42 and y=24\n",
      "42= and 24=\n",
      "x=42 and y=24\n"
     ]
    }
   ],
   "source": [
    "x, y = 42, 24\n",
    "print(f'{x} and {y}')\n",
    "print(f'{x=} and {y=}')\n",
    "print(f'{x}= and {y}=')\n",
    "print(f'x={x} and y={y}')"
   ]
  },
  {
   "cell_type": "code",
   "execution_count": 62,
   "id": "2baca70e",
   "metadata": {},
   "outputs": [
    {
     "name": "stdout",
     "output_type": "stream",
     "text": [
      "x=8.40000 and y=4.800e+00\n"
     ]
    }
   ],
   "source": [
    "x, y = 42/5, 24/5\n",
    "print(f\"{x=:.5f} and {y=:.3e}\")"
   ]
  },
  {
   "cell_type": "code",
   "execution_count": null,
   "id": "25f85e1b",
   "metadata": {},
   "outputs": [
    {
     "name": "stdout",
     "output_type": "stream",
     "text": [
      "42\n"
     ]
    }
   ],
   "source": [
    "y = 40          # python reading from right to left:\n",
    "y = 40 + 2      # the latest update to y = previous y + 'a'\n",
    "print(y)        # print(y) will give the latest y output\n"
   ]
  },
  {
   "cell_type": "code",
   "execution_count": null,
   "id": "7875e68f",
   "metadata": {},
   "outputs": [],
   "source": [
    "#Shorthand syntax: shorter code\n",
    "y+= 2   \n",
    "y = y + 2\n",
    "y"
   ]
  },
  {
   "cell_type": "code",
   "execution_count": 10,
   "id": "a5ec7a3f",
   "metadata": {},
   "outputs": [
    {
     "name": "stdout",
     "output_type": "stream",
     "text": [
      "How you doin Monday!\n",
      "How you doin 1000!\n"
     ]
    }
   ],
   "source": [
    "user_input = input(\"What is your name?\")\n",
    "age = input(\"What is your age?\")\n",
    "print('How you doin', user_input+'!')\n",
    "print(f\"How you doin {age}!\")"
   ]
  },
  {
   "cell_type": "markdown",
   "id": "cb437045",
   "metadata": {},
   "source": [
    "## Exercise 1"
   ]
  },
  {
   "cell_type": "code",
   "execution_count": 4,
   "id": "75da87df",
   "metadata": {},
   "outputs": [
    {
     "name": "stdout",
     "output_type": "stream",
     "text": [
      "The value of pi to 2 decimal place is: pi=3.14\n"
     ]
    }
   ],
   "source": [
    "#trial\n",
    "pi = 3.141592653589793\n",
    "print(f\"The value of pi to 2 decimal place is: {pi=:.2f}\")\n"
   ]
  },
  {
   "cell_type": "code",
   "execution_count": 3,
   "metadata": {},
   "outputs": [
    {
     "name": "stdout",
     "output_type": "stream",
     "text": [
      "The value of pi to 2 decimal places is: 3.14\n",
      "The value of pi to 3 decimal places is: 3.142\n",
      "The value of pi to 4 decimal places is: 3.1416\n"
     ]
    }
   ],
   "source": [
    "pi = 3.141592653589793\n",
    "print(f\"The value of pi to 2 decimal places is: {pi:.2f}\")\n",
    "print(f\"The value of pi to 3 decimal places is: {pi:.3f}\")\n",
    "print(f\"The value of pi to 4 decimal places is: {pi:.4f}\")\n",
    "\n"
   ]
  },
  {
   "cell_type": "code",
   "execution_count": 34,
   "id": "92cb5c05",
   "metadata": {},
   "outputs": [
    {
     "name": "stdout",
     "output_type": "stream",
     "text": [
      "apple      $ 0.99\n"
     ]
    }
   ],
   "source": [
    "apple = 'apple'\n",
    "price1 = '0.99'\n",
    "print(f'{apple:<10} ${price1:>5}')       # to simplify, zip 2 lists (variables: fruit & price) into a dictionary \n",
    "\n",
    "\n",
    "#dictionary attempt\n",
    "fruit = {\n",
    "    'apple': 'apple',\n",
    "    'banana': 'banana',\n",
    "    'orange': 'orange'\n",
    "}\n",
    "\n",
    "price = {\n",
    "    'A': '0.99',\n",
    "    'B': '0.59',\n",
    "    'C': '1.29'\n",
    "}\n",
    "\n"
   ]
  },
  {
   "cell_type": "code",
   "execution_count": null,
   "id": "f927c6fb",
   "metadata": {},
   "outputs": [
    {
     "ename": "TypeError",
     "evalue": "'<=' not supported between instances of 'int' and 'str'",
     "output_type": "error",
     "traceback": [
      "\u001b[31m---------------------------------------------------------------------------\u001b[39m",
      "\u001b[31mTypeError\u001b[39m                                 Traceback (most recent call last)",
      "\u001b[36mCell\u001b[39m\u001b[36m \u001b[39m\u001b[32mIn[41]\u001b[39m\u001b[32m, line 3\u001b[39m\n\u001b[32m      1\u001b[39m score = \u001b[38;5;28minput\u001b[39m(\u001b[33m\"\u001b[39m\u001b[33mWhat is your score?\u001b[39m\u001b[33m\"\u001b[39m)\n\u001b[32m----> \u001b[39m\u001b[32m3\u001b[39m \u001b[38;5;28;01mif\u001b[39;00m \u001b[32;43m0\u001b[39;49m\u001b[43m \u001b[49m\u001b[43m<\u001b[49m\u001b[43m=\u001b[49m\u001b[43m \u001b[49m\u001b[43mscore\u001b[49m\u001b[43m \u001b[49m\u001b[43m<\u001b[49m\u001b[43m=\u001b[49m\u001b[43m \u001b[49m\u001b[32;43m34\u001b[39;49m:            \u001b[38;5;66;03m# is the \"if, elif, else\" template the expected direction for this exercise? yes!\u001b[39;00m\n\u001b[32m      4\u001b[39m     grade = \u001b[33m'\u001b[39m\u001b[33mfail\u001b[39m\u001b[33m'\u001b[39m\n\u001b[32m      5\u001b[39m \u001b[38;5;28;01melif\u001b[39;00m \u001b[32m35\u001b[39m <= score <= \u001b[32m49\u001b[39m:\n",
      "\u001b[31mTypeError\u001b[39m: '<=' not supported between instances of 'int' and 'str'"
     ]
    }
   ],
   "source": [
    "#trial\n",
    "\n",
    "score = input(\"What is your score?\")\n",
    "\n",
    "if 0 <= score <= 34:            # is the \"if, elif, else\" template the expected direction for this exercise? yes!\n",
    "    grade = 'fail'\n",
    "elif 35 <= score <= 49:\n",
    "    grade = 'C'\n",
    "elif 50 <= score <= 69:\n",
    "    grade = 'B'\n",
    "elif 70 <= score <= 100:\n",
    "    grade = 'A'\n",
    "else:\n",
    "    grade = 'Unrecognised input!'\n",
    "\n",
    "print(\"The student's letter grade is: {grade}\")"
   ]
  },
  {
   "cell_type": "code",
   "execution_count": null,
   "id": "e8814881",
   "metadata": {},
   "outputs": [
    {
     "name": "stdout",
     "output_type": "stream",
     "text": [
      "<class 'str'>\n"
     ]
    }
   ],
   "source": [
    "score = input(\"What is your score?\")        #checking for what type of input the score variable is\n",
    "print(type(score))                          #since it was a string (of texts), cannot be compared with integers 0, 34, etc."
   ]
  },
  {
   "cell_type": "code",
   "execution_count": null,
   "id": "75ddc316",
   "metadata": {},
   "outputs": [
    {
     "name": "stdout",
     "output_type": "stream",
     "text": [
      "The student's letter grade is: Unrecognised score!\n"
     ]
    }
   ],
   "source": [
    "score = input(\"What is your score?\")\n",
    "score = float(score)            \n",
    "                                # Variable 'score' can be an integer/ float(decimal nmbr), but error will occur if score = int(score) yet input is a decimal nmbr\n",
    "\n",
    "if 0 <= score <= 34:            # is the \"if, elif, else\" template the expected direction for this exercise? yes!\n",
    "    grade = 'fail'\n",
    "elif 35 <= score <= 49:\n",
    "    grade = 'C'\n",
    "elif 50 <= score <= 69:\n",
    "    grade = 'B'\n",
    "elif 70 <= score <= 100:\n",
    "    grade = 'A'\n",
    "else:\n",
    "    grade = 'Unrecognised score!'\n",
    "\n",
    "print(f\"The student's letter grade is: {grade}\")"
   ]
  },
  {
   "cell_type": "markdown",
   "id": "404c11ba",
   "metadata": {},
   "source": [
    "## Exercise 3 (Debugging Code)"
   ]
  },
  {
   "cell_type": "code",
   "execution_count": null,
   "id": "1e8595c8",
   "metadata": {},
   "outputs": [
    {
     "name": "stdout",
     "output_type": "stream",
     "text": [
      "3628800\n",
      "Invalid Input\n"
     ]
    }
   ],
   "source": [
    "def factorial(n):\n",
    "    if n < 0:\n",
    "        return \"Invalid Input\"\n",
    "    elif n == 0:\n",
    "        return 1\n",
    "    else: \n",
    "        result = 1\n",
    "        for number in range(1, n+1):\n",
    "            result *= number           # result = result * number\n",
    "        return result\n",
    "        \n",
    "print(factorial (10))\n",
    "print(factorial(-1))"
   ]
  },
  {
   "cell_type": "code",
   "execution_count": null,
   "id": "750bf02d",
   "metadata": {},
   "outputs": [],
   "source": []
  }
 ],
 "metadata": {
  "kernelspec": {
   "display_name": "base",
   "language": "python",
   "name": "python3"
  },
  "language_info": {
   "codemirror_mode": {
    "name": "ipython",
    "version": 3
   },
   "file_extension": ".py",
   "mimetype": "text/x-python",
   "name": "python",
   "nbconvert_exporter": "python",
   "pygments_lexer": "ipython3",
   "version": "3.13.5"
  },
  "toc": {
   "base_numbering": 1,
   "nav_menu": {},
   "number_sections": true,
   "sideBar": true,
   "skip_h1_title": false,
   "title_cell": "Table of Contents",
   "title_sidebar": "Contents",
   "toc_cell": false,
   "toc_position": {},
   "toc_section_display": true,
   "toc_window_display": false
  }
 },
 "nbformat": 4,
 "nbformat_minor": 5
}
