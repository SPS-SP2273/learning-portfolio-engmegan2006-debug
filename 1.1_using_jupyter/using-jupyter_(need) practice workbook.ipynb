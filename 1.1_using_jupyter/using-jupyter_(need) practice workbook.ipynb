{
 "cells": [
  {
   "cell_type": "code",
   "execution_count": 1,
   "id": "bac68dee-6300-470e-a205-fff1579c49c1",
   "metadata": {},
   "outputs": [
    {
     "name": "stdout",
     "output_type": "stream",
     "text": [
      "Hello World!\n"
     ]
    }
   ],
   "source": [
    "print('Hello World!')"
   ]
  },
  {
   "cell_type": "markdown",
   "id": "e3637f89-d356-4d04-82fd-36ff474dedef",
   "metadata": {},
   "source": [
    "The ships hung in the sky in much the same way that bricks don’t."
   ]
  },
  {
   "cell_type": "markdown",
   "id": "bdac50ca-09d2-4208-94f7-96d5ec650467",
   "metadata": {},
   "source": [
    "THe ships *hung in the sky*"
   ]
  },
  {
   "cell_type": "code",
   "execution_count": 2,
   "id": "be9606b4-785c-40a6-8366-f2068ae0be01",
   "metadata": {},
   "outputs": [
    {
     "name": "stdout",
     "output_type": "stream",
     "text": [
      "HelloHelloHelloHelloHelloHelloHelloHelloHelloHello\n"
     ]
    }
   ],
   "source": [
    "print('Hello'*10)"
   ]
  },
  {
   "cell_type": "code",
   "execution_count": 3,
   "id": "008ca201-ef48-458f-89c1-20746545f723",
   "metadata": {},
   "outputs": [
    {
     "name": "stdout",
     "output_type": "stream",
     "text": [
      "Hello Hello Hello Hello Hello Hello Hello Hello Hello Hello \n"
     ]
    }
   ],
   "source": [
    "print('Hello '*10)"
   ]
  },
  {
   "cell_type": "code",
   "execution_count": 4,
   "id": "75458b2e-69d3-4c70-b316-1a5082eb1957",
   "metadata": {},
   "outputs": [
    {
     "data": {
      "text/plain": [
       "12"
      ]
     },
     "execution_count": 4,
     "metadata": {},
     "output_type": "execute_result"
    }
   ],
   "source": [
    "11+1"
   ]
  },
  {
   "cell_type": "code",
   "execution_count": 7,
   "id": "d8bd5bf5-bb50-4d51-bdb3-756663a87b47",
   "metadata": {},
   "outputs": [
    {
     "ename": "NameError",
     "evalue": "name 'sqrt' is not defined",
     "output_type": "error",
     "traceback": [
      "\u001b[31m---------------------------------------------------------------------------\u001b[39m",
      "\u001b[31mNameError\u001b[39m                                 Traceback (most recent call last)",
      "\u001b[36mCell\u001b[39m\u001b[36m \u001b[39m\u001b[32mIn[7]\u001b[39m\u001b[32m, line 2\u001b[39m\n\u001b[32m      1\u001b[39m x, y = \u001b[32m3\u001b[39m, \u001b[32m4\u001b[39m\n\u001b[32m----> \u001b[39m\u001b[32m2\u001b[39m z = \u001b[43msqrt\u001b[49m(x^\u001b[32m2\u001b[39m + y^\u001b[32m2\u001b[39m)\n\u001b[32m      3\u001b[39m \u001b[38;5;28mprint\u001b[39m(x, y, z)\n",
      "\u001b[31mNameError\u001b[39m: name 'sqrt' is not defined"
     ]
    }
   ],
   "source": [
    "x, y = 3, 4\n",
    "z = sqrt(x^2 + y^2)\n",
    "print(x, y, z)"
   ]
  },
  {
   "cell_type": "code",
   "execution_count": null,
   "id": "a0270970-9c17-4331-97a2-067c326de9d4",
   "metadata": {},
   "outputs": [],
   "source": []
  }
 ],
 "metadata": {
  "kernelspec": {
   "display_name": "Python 3 (ipykernel)",
   "language": "python",
   "name": "python3"
  },
  "language_info": {
   "codemirror_mode": {
    "name": "ipython",
    "version": 3
   },
   "file_extension": ".py",
   "mimetype": "text/x-python",
   "name": "python",
   "nbconvert_exporter": "python",
   "pygments_lexer": "ipython3",
   "version": "3.13.5"
  }
 },
 "nbformat": 4,
 "nbformat_minor": 5
}
