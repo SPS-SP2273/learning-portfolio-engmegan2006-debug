{
 "cells": [
  {
   "attachments": {},
   "cell_type": "markdown",
   "id": "123456",
   "metadata": {},
   "source": [
    "<div style=\"text-align:left;font-size:2em\"><span style=\"font-weight:bolder;font-size:1.25em\">SP2273 | Learning Portfolio</span><br><br><span style=\"font-weight:bold;color:darkred\">Using Jupyter (Need), Exercises</span></div>"
   ]
  },
  {
   "attachments": {},
   "cell_type": "markdown",
   "id": "02b4ffac",
   "metadata": {},
   "source": [
    "## 1 Quadratic Equations"
   ]
  },
  {
   "attachments": {},
   "cell_type": "markdown",
   "id": "feb87ab1",
   "metadata": {},
   "source": [
    "### Introduction"
   ]
  },
  {
   "cell_type": "markdown",
   "id": "fd9e9432-2175-4977-9a93-13044f02f706",
   "metadata": {},
   "source": [
    "![](https://upload.wikimedia.org/wikipedia/commons/thumb/f/f8/Polynomialdeg2.svg/1024px-Polynomialdeg2.svg.png)"
   ]
  },
  {
   "cell_type": "markdown",
   "id": "8664a658-08fb-4448-ae3d-152e90e8c376",
   "metadata": {},
   "source": [
    "(Image from the [Wikipedia page on Quadratic Equations](https://en.wikipedia.org/wiki/Quadratic_equation))"
   ]
  },
  {
   "cell_type": "markdown",
   "id": "97749c0a-7a4a-4541-8fc9-c76e466456f5",
   "metadata": {},
   "source": [
    "The general form of a quadratic equation is:\n",
    "$$\n",
    "ax^2 + bx + c = 0\n",
    "$$"
   ]
  },
  {
   "attachments": {},
   "cell_type": "markdown",
   "id": "abd8bb32",
   "metadata": {},
   "source": [
    "### Solutions"
   ]
  },
  {
   "cell_type": "markdown",
   "id": "900c9966-0c03-40d4-9a6f-f2f209ddafa4",
   "metadata": {},
   "source": [
    "Provided $\\alpha \\ne$ 0, we can use an elementary algebraic method called [completing the square](https://en.wikipedia.org/wiki/Completing_the_square) to show that a quadratic equation has the following solution:\n",
    "$$\n",
    "x = \\dfrac{-b \\pm \\sqrt{b^2-4ac}}{2a}\n",
    "$$"
   ]
  },
  {
   "cell_type": "code",
   "execution_count": 4,
   "id": "b369714b-e39b-4267-a0eb-5d60141d41c4",
   "metadata": {},
   "outputs": [],
   "source": [
    "# does it matter whether equation is written in a separate markdown cell as the text before it?\n",
    "# this # for writing comments only applies to code cell, not markdown (in markdown, it wld indicate a heading)"
   ]
  },
  {
   "attachments": {},
   "cell_type": "markdown",
   "id": "3af0679c",
   "metadata": {},
   "source": [
    "### Discriminant"
   ]
  },
  {
   "cell_type": "markdown",
   "id": "99d2617f-4dcf-4c79-8c7d-18a927c055ac",
   "metadata": {},
   "source": [
    "The quantity *△ = b^2 - 4ac* is called the **discriminant** of the equation and decides the nature of its solutions. The table below shows the various possibilities. \n",
    "|Discriminant|Roots|\n",
    "|:--:|:---|   \n",
    "|$△=b^2 - 4ac = 0$| A single solution of $-b/(2a)$|\n",
    "|$△=b^2 - 4ac > 0$| Two distinct solutions|\n",
    "|$△=b^2 - 4ac < 0$| No real solutions; both are complex!|\n"
   ]
  },
  {
   "cell_type": "code",
   "execution_count": null,
   "id": "5495c6bf-35c0-40ff-a2cf-aead9cff54b0",
   "metadata": {},
   "outputs": [],
   "source": []
  },
  {
   "cell_type": "markdown",
   "id": "24d2108f-40e3-4b00-9a44-acb3f66250d8",
   "metadata": {},
   "source": [
    "### Exercise 2"
   ]
  },
  {
   "cell_type": "markdown",
   "id": "10b93d98-74ce-43d8-b6f0-70e67f1dfcee",
   "metadata": {},
   "source": [
    "1. Git Repository is the folder where files like the learning portfolio is contained in GitHub \n",
    "\n",
    "2. Git keeps track of _code changes_ in the files in our repository\n",
    "\n",
    "3. A commit is a confirmed change in code that will be recorded in the editing history\n",
    "\n",
    "4. A push is an act to upload the commit from desktop onto the online GitHub server \n",
    "\n",
    "5. A pull is an act to download the commit from the online GitHub server to desktop (local machine)\n",
    "\n",
    "6. The difference between GitHub and GitHub Desktop is that GitHub is a website while GitHub Desktop is an installation/ application for the local machine. GitHub desktop provides Graphical User Interface (GUI) that makes it easier to navigate GitHub, while GitHub itself allows for collaborative coding on the cloud."
   ]
  },
  {
   "cell_type": "markdown",
   "id": "14026955-c9cd-401c-9f37-8f0ad90ee4a4",
   "metadata": {},
   "source": [
    "### Exercise 3 - A matter of statistics"
   ]
  },
  {
   "cell_type": "markdown",
   "id": "01e998d3-c923-4362-8e23-af298d6fe03a",
   "metadata": {},
   "source": [
    "$$\n",
    "\\mu = \\dfrac{1}{n}\\sum_{i=1}^{n}x_{i}\n",
    "\n",
    "$$"
   ]
  },
  {
   "cell_type": "markdown",
   "id": "0ddda411",
   "metadata": {},
   "source": [
    "$$\n",
    "\\sigma = \\sqrt{\\dfrac{1},{n}\\sum_{i=1}^{n}(x_{i}-\\mu)^2}\n",
    "$$"
   ]
  },
  {
   "cell_type": "markdown",
   "id": "0c5190b5",
   "metadata": {},
   "source": [
    "$$\n",
    "\n",
    "r = \\dfrac{ \\sum_{i=1}^{n} (x_{i} - \\mu_{X})(y_{i}-\\mu_{Y}) }\n",
    "\n",
    "{\\sqrt{\\sum_{i=1}^{n} (x_{i} - \\mu_{X})^2 \\sum_{i=1}^{n}(y_{i}-\\mu_{Y})^2}}\n",
    "\n",
    "$$"
   ]
  },
  {
   "cell_type": "markdown",
   "id": "ab107348",
   "metadata": {},
   "source": []
  }
 ],
 "metadata": {
  "kernelspec": {
   "display_name": "base",
   "language": "python",
   "name": "python3"
  },
  "language_info": {
   "codemirror_mode": {
    "name": "ipython",
    "version": 3
   },
   "file_extension": ".py",
   "mimetype": "text/x-python",
   "name": "python",
   "nbconvert_exporter": "python",
   "pygments_lexer": "ipython3",
   "version": "3.13.5"
  },
  "toc": {
   "base_numbering": 1,
   "nav_menu": {},
   "number_sections": true,
   "sideBar": true,
   "skip_h1_title": false,
   "title_cell": "Table of Contents",
   "title_sidebar": "Contents",
   "toc_cell": false,
   "toc_position": {},
   "toc_section_display": true,
   "toc_window_display": false
  }
 },
 "nbformat": 4,
 "nbformat_minor": 5
}
