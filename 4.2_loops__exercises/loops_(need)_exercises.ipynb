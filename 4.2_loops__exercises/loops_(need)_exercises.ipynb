{
 "cells": [
  {
   "attachments": {},
   "cell_type": "markdown",
   "id": "123456",
   "metadata": {},
   "source": [
    "<div style=\"text-align:left;font-size:2em\"><span style=\"font-weight:bolder;font-size:1.25em\">SP2273 | Learning Portfolio</span><br><br><span style=\"font-weight:bold;color:darkred\">Loops (Need) Exercises</span></div>"
   ]
  },
  {
   "cell_type": "code",
   "execution_count": null,
   "id": "13358edf",
   "metadata": {},
   "outputs": [
    {
     "name": "stdout",
     "output_type": "stream",
     "text": [
      "aaa is a Marvel superhero\n",
      "bbb is a Marvel superhero\n",
      "ccc is a Marvel superhero\n"
     ]
    }
   ],
   "source": [
    "real_names = [\"aaa\", \"bbb\", \"ccc\"]\n",
    "\n",
    "for name in real_names:         # name is not a variable previously defined; defined here as the elements of list real_names\n",
    "    print(f\"{name} is a Marvel superhero\")\n"
   ]
  },
  {
   "cell_type": "code",
   "execution_count": 16,
   "id": "9bfd2260",
   "metadata": {},
   "outputs": [
    {
     "name": "stdout",
     "output_type": "stream",
     "text": [
      "0 aaa\n",
      "1 bbb\n",
      "2 ccc\n"
     ]
    }
   ],
   "source": [
    "count = 0\n",
    "for count, name in enumerate(real_names):\n",
    "    print(count, name)\n",
    "\n",
    "#count: each iteration n+1 and remember it\n",
    "#count increases 0,1,2,3 (STARTS FROM ZERO)\n",
    "#{name} in enumerate(real_names) will follow corresponding count"
   ]
  },
  {
   "cell_type": "code",
   "execution_count": null,
   "id": "bc135eba",
   "metadata": {},
   "outputs": [
    {
     "name": "stdout",
     "output_type": "stream",
     "text": [
      "1. aaa is a superhero\n",
      "2. bbb is a superhero\n",
      "3. ccc is a superhero\n"
     ]
    }
   ],
   "source": [
    "count = 0\n",
    "for count, name in enumerate(real_names):\n",
    "    count += 1\n",
    "    print(f\"{count}. {name} is a superhero\")\n",
    "\n",
    "# count = 0 must be placed outside (above) of for/enumerate statement"
   ]
  },
  {
   "cell_type": "code",
   "execution_count": 19,
   "id": "6c800d67",
   "metadata": {},
   "outputs": [
    {
     "name": "stdout",
     "output_type": "stream",
     "text": [
      "Natasha Romanoff is Black Widow!\n",
      "Tony Stark is Iron Man!\n",
      "Stephen Strange is Doctor Strange!\n"
     ]
    }
   ],
   "source": [
    "super_names = [\"Black Widow\", \"Iron Man\", \"Doctor Strange\"]\n",
    "real_names = [\"Natasha Romanoff\", \"Tony Stark\", \"Stephen Strange\"]\n",
    "\n",
    "for index, name in enumerate(real_names):\n",
    "    superhero_name = super_names[index]     \n",
    "    print(f'{name} is {superhero_name}!')\n",
    "\n",
    "    # {name} = real_names[index] the same way {superhero_name} = super_names[index]\n"
   ]
  },
  {
   "cell_type": "code",
   "execution_count": 21,
   "id": "43248da8",
   "metadata": {},
   "outputs": [
    {
     "name": "stdout",
     "output_type": "stream",
     "text": [
      "0 Natasha Romanoff\n",
      "1 Tony Stark\n",
      "2 Stephen Strange\n"
     ]
    }
   ],
   "source": [
    "for i in [0,1,2]:\n",
    "    print(i, real_names[i])\n",
    "    # no need to use count, can replace it with any variable (since is previously unlabelled)\n",
    "    # hardcoding: must manually type out 0,1,2,3,...\n"
   ]
  },
  {
   "cell_type": "code",
   "execution_count": null,
   "id": "88ddbb43",
   "metadata": {},
   "outputs": [
    {
     "name": "stdout",
     "output_type": "stream",
     "text": [
      "1 Natasha Romanoff\n",
      "2 Tony Stark\n",
      "3 Stephen Strange\n"
     ]
    },
    {
     "data": {
      "text/plain": [
       "range(0, 3)"
      ]
     },
     "execution_count": 32,
     "metadata": {},
     "output_type": "execute_result"
    }
   ],
   "source": [
    "for i in range(3):\n",
    "    print(i+1, real_names[i])\n",
    "    # range(n) gives size of list, so no need to hardcode type it out"
   ]
  },
  {
   "cell_type": "code",
   "execution_count": 39,
   "id": "b69e33b4",
   "metadata": {},
   "outputs": [
    {
     "name": "stdout",
     "output_type": "stream",
     "text": [
      "Natasha Romanoff is the superhero Black Widow!\n",
      "Tony Stark is the superhero Iron Man!\n",
      "Stephen Strange is the superhero Doctor Strange!\n",
      "What len(real_names) looks like: 3\n"
     ]
    },
    {
     "data": {
      "text/plain": [
       "range(0, 3)"
      ]
     },
     "execution_count": 39,
     "metadata": {},
     "output_type": "execute_result"
    }
   ],
   "source": [
    "# alternative to code cell 19\n",
    "for i in range(len(real_names)):\n",
    "    real_name = real_names[i]\n",
    "    super_name = super_names[i]\n",
    "    print(f\"{real_name} is the superhero {super_name}!\")\n",
    "\n",
    "\n",
    "print(\"What len(real_names) looks like:\",len(real_names))\n",
    "range(len(real_names))\n",
    "\n",
    "# use range(): for loop will run a certainn number of repeats\n",
    "\n",
    "# range(len (variable)): the list\n",
    "# len(variable): itself gives the size of list as a single number: 3"
   ]
  },
  {
   "cell_type": "code",
   "execution_count": null,
   "id": "957f2887",
   "metadata": {},
   "outputs": [
    {
     "name": "stdout",
     "output_type": "stream",
     "text": [
      "5\n",
      "7\n",
      "9\n"
     ]
    }
   ],
   "source": [
    "for i in range(5,10,2):\n",
    "    print(i)\n",
    "# range similar to indexing: start from x, end at y-1, in steps of n\n",
    "# range always ends one short of ending number: y-1"
   ]
  },
  {
   "cell_type": "code",
   "execution_count": null,
   "id": "bb63683f",
   "metadata": {},
   "outputs": [
    {
     "name": "stdout",
     "output_type": "stream",
     "text": [
      "0\n",
      "1\n",
      "2\n",
      "3\n",
      "4\n"
     ]
    }
   ],
   "source": [
    "number = 0\n",
    "\n",
    "while number < 5:\n",
    "    print(number)\n",
    "    number += 1\n",
    "\n",
    "# while loop keeps running WHILE a condition holds true\n",
    "# while loop checks condition at the start of each new lopp, continues only if condition still holds true\n"
   ]
  },
  {
   "cell_type": "markdown",
   "id": "adb00c65",
   "metadata": {},
   "source": [
    "## Exercises"
   ]
  },
  {
   "cell_type": "markdown",
   "id": "6e2ec56a",
   "metadata": {},
   "source": [
    "### Exercise 1"
   ]
  },
  {
   "cell_type": "code",
   "execution_count": 6,
   "id": "70329ce9",
   "metadata": {},
   "outputs": [
    {
     "name": "stdout",
     "output_type": "stream",
     "text": [
      "0 , 32.0\n",
      "5 , 41.0\n",
      "10 , 50.0\n",
      "15 , 59.0\n",
      "20 , 68.0\n",
      "25 , 77.0\n",
      "30 , 86.0\n",
      "35 , 95.0\n",
      "40 , 104.0\n",
      "45 , 113.0\n",
      "50 , 122.0\n"
     ]
    }
   ],
   "source": [
    "import numpy as np\n",
    "\n",
    "temperatures_celsius = [\n",
    "    0, 5, 10, 15, 20, 25,\n",
    "    30, 35, 40, 45, 50\n",
    "]\n",
    "\n",
    "temperatures_celsius = np.array(temperatures_celsius)\n",
    "temperatures_fahrenheit = temperatures_celsius*1.8 + 32\n",
    "\n",
    "for index, temp_c in enumerate(temperatures_celsius):\n",
    "    temp_f = temperatures_fahrenheit[index]\n",
    "    print(temp_c, \",\", temp_f)"
   ]
  },
  {
   "cell_type": "code",
   "execution_count": null,
   "id": "93900310",
   "metadata": {},
   "outputs": [
    {
     "name": "stdout",
     "output_type": "stream",
     "text": [
      "A1\tA2\tA3\t\n",
      "\n",
      "B1\tB2\tB3\t\n",
      "\n",
      "C1\tC2\tC3\t\n",
      "\n"
     ]
    }
   ],
   "source": [
    "for letter in ['A', 'B', 'C']:\n",
    "    for number in [1, 2, 3]:\n",
    "        print(f'{letter}{number}', end='\\t')\n",
    "    print('\\n')\n",
    "# use end='\\t' to make a tab\n",
    "# now there won't be a new line entered after each print of {letter}{number}, for elements of the same alphabet\n"
   ]
  },
  {
   "cell_type": "markdown",
   "id": "3a708aee",
   "metadata": {},
   "source": [
    "### Exercise 2"
   ]
  },
  {
   "cell_type": "code",
   "execution_count": 8,
   "id": "3e07517a",
   "metadata": {},
   "outputs": [
    {
     "name": "stdout",
     "output_type": "stream",
     "text": [
      "1:\t1\t2\t3\t4\t5\t\n",
      "\n",
      "2:\t2\t4\t6\t8\t10\t\n",
      "\n",
      "3:\t3\t6\t9\t12\t15\t\n",
      "\n",
      "4:\t4\t8\t12\t16\t20\t\n",
      "\n",
      "5:\t5\t10\t15\t20\t25\t\n",
      "\n"
     ]
    }
   ],
   "source": [
    "for number_x in [1,2,3,4,5]:\n",
    "    print(f'{number_x}:', end='\\t')     # use end='\\t' to replace new line with a tab, so 1,2,3,4,5 follows the \"1:\" in the same line\n",
    "    for number_y in [1,2,3,4,5]:\n",
    "        multiple = number_x*number_y\n",
    "        print(f'{multiple}', end='\\t')\n",
    "    print(f'\\n')\n",
    "\n"
   ]
  },
  {
   "cell_type": "markdown",
   "id": "93be6528",
   "metadata": {},
   "source": [
    "### Exercise 3"
   ]
  },
  {
   "cell_type": "code",
   "execution_count": 6,
   "id": "a8ddfbea",
   "metadata": {},
   "outputs": [
    {
     "name": "stdout",
     "output_type": "stream",
     "text": [
      "Experiment 1: No. of Heads = 5\n",
      "Experiment 2: No. of Heads = 3\n",
      "Experiment 3: No. of Heads = 7\n",
      "Experiment 4: No. of Heads = 6\n",
      "Experiment 5: No. of Heads = 5\n",
      "Experiment 6: No. of Heads = 5\n",
      "Experiment 7: No. of Heads = 5\n",
      "Experiment 8: No. of Heads = 4\n",
      "Experiment 9: No. of Heads = 6\n",
      "Experiment 10: No. of Heads = 5\n"
     ]
    }
   ],
   "source": [
    "import numpy as np\n",
    "py_list = list(np.random.rand(10))\n",
    "\n",
    "\n",
    "for i in range(1,11):\n",
    "    heads = (np.random.rand(10) > 0.5).sum()\n",
    "    print(f'Experiment {i}: No. of Heads = {heads}')\n"
   ]
  },
  {
   "cell_type": "code",
   "execution_count": 7,
   "id": "c3517f95",
   "metadata": {},
   "outputs": [
    {
     "name": "stdout",
     "output_type": "stream",
     "text": [
      "[0.29767336 0.14322916 0.92611268 0.03173065 0.99576927 0.53284076\n",
      " 0.61366318 0.30764288 0.33850676 0.29815209]\n"
     ]
    },
    {
     "data": {
      "text/plain": [
       "np.int64(4)"
      ]
     },
     "execution_count": 7,
     "metadata": {},
     "output_type": "execute_result"
    }
   ],
   "source": [
    "# correct\n",
    "import numpy as np\n",
    "exp = np.random.rand(10)\n",
    "heads = (exp > 0.5).sum()       # replace all np.random.rand(10) with variable 'exp', so that randomisation doesn't repeat. exp refers to the same set of randomised numbers every time.\n",
    "print(exp)\n",
    "heads"
   ]
  },
  {
   "cell_type": "code",
   "execution_count": null,
   "id": "0453d626",
   "metadata": {},
   "outputs": [
    {
     "name": "stdout",
     "output_type": "stream",
     "text": [
      "[np.float64(0.9263459746251311), np.float64(0.3909882517263794), np.float64(0.4750157933584801), np.float64(0.9256967483143712), np.float64(0.9055200716111458), np.float64(0.24508890188098997), np.float64(0.08992607075964121), np.float64(0.8789948819106903), np.float64(0.9718581995510452), np.float64(0.48893345267665633)]\n"
     ]
    },
    {
     "data": {
      "text/plain": [
       "np.int64(6)"
      ]
     },
     "execution_count": 53,
     "metadata": {},
     "output_type": "execute_result"
    }
   ],
   "source": [
    "#incorrect\n",
    "np.random.rand(10)\n",
    "list = list(np.random.rand(10))\n",
    "heads = (np.random.rand(10) > 0.5).sum()\n",
    "print(list)\n",
    "heads\n",
    "\n",
    "# making a list is not the answer to fixing the randomised 10 numbers. making a variable is! \n",
    "\n"
   ]
  },
  {
   "cell_type": "code",
   "execution_count": 6,
   "id": "89f2278a",
   "metadata": {},
   "outputs": [
    {
     "name": "stdout",
     "output_type": "stream",
     "text": [
      "[0.60313711 0.84438468 0.33313515 0.14501434 0.69973349 0.79466211\n",
      " 0.25486729 0.81771014 0.4752726  0.02119651]\n"
     ]
    },
    {
     "data": {
      "text/plain": [
       "np.int64(6)"
      ]
     },
     "execution_count": 6,
     "metadata": {},
     "output_type": "execute_result"
    }
   ],
   "source": [
    "# incorrect\n",
    "import numpy as np\n",
    "np.random.rand(10)                  # randomised set of 10 will be replaced by np.random.rand(10) in lines below\n",
    "heads = (np.random.rand(10) > 0.5).sum()\n",
    "print(np.random.rand(10))\n",
    "heads"
   ]
  },
  {
   "cell_type": "code",
   "execution_count": null,
   "id": "b5558f13",
   "metadata": {},
   "outputs": [],
   "source": []
  }
 ],
 "metadata": {
  "kernelspec": {
   "display_name": "base",
   "language": "python",
   "name": "python3"
  },
  "language_info": {
   "codemirror_mode": {
    "name": "ipython",
    "version": 3
   },
   "file_extension": ".py",
   "mimetype": "text/x-python",
   "name": "python",
   "nbconvert_exporter": "python",
   "pygments_lexer": "ipython3",
   "version": "3.13.5"
  },
  "toc": {
   "base_numbering": 1,
   "nav_menu": {},
   "number_sections": true,
   "sideBar": true,
   "skip_h1_title": false,
   "title_cell": "Table of Contents",
   "title_sidebar": "Contents",
   "toc_cell": false,
   "toc_position": {},
   "toc_section_display": true,
   "toc_window_display": false
  }
 },
 "nbformat": 4,
 "nbformat_minor": 5
}
