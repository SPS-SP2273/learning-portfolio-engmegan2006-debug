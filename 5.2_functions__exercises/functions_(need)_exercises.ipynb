{
 "cells": [
  {
   "attachments": {},
   "cell_type": "markdown",
   "id": "123456",
   "metadata": {},
   "source": [
    "<div style=\"text-align:left;font-size:2em\"><span style=\"font-weight:bolder;font-size:1.25em\">SP2273 | Learning Portfolio</span><br><br><span style=\"font-weight:bold;color:darkred\">Functions (Need) Exercises</span></div>"
   ]
  },
  {
   "cell_type": "markdown",
   "id": "952a3a3f",
   "metadata": {},
   "source": [
    "Named function: define function with a name, using function _def_"
   ]
  },
  {
   "cell_type": "code",
   "execution_count": null,
   "id": "74fa276e",
   "metadata": {},
   "outputs": [],
   "source": [
    "def greet(name):\n",
    "    if name == 'Batman': \n",
    "        return 'Hello Batman! Good day!'\n",
    "    else:\n",
    "        return f'Hello {name}!'"
   ]
  },
  {
   "cell_type": "code",
   "execution_count": 2,
   "id": "b9950361",
   "metadata": {},
   "outputs": [
    {
     "data": {
      "text/plain": [
       "'Hello Superman'"
      ]
     },
     "execution_count": 2,
     "metadata": {},
     "output_type": "execute_result"
    }
   ],
   "source": [
    "greet('Superman')"
   ]
  },
  {
   "cell_type": "code",
   "execution_count": 3,
   "id": "dd01d11e",
   "metadata": {},
   "outputs": [
    {
     "data": {
      "text/plain": [
       "'Hello Batman! Good day!'"
      ]
     },
     "execution_count": 3,
     "metadata": {},
     "output_type": "execute_result"
    }
   ],
   "source": [
    "greet('Batman')"
   ]
  },
  {
   "cell_type": "code",
   "execution_count": 4,
   "id": "df1c347b",
   "metadata": {},
   "outputs": [
    {
     "data": {
      "text/plain": [
       "'Hello Batman! Good day!'"
      ]
     },
     "execution_count": 4,
     "metadata": {},
     "output_type": "execute_result"
    }
   ],
   "source": [
    "greet(name=\"Batman\")"
   ]
  },
  {
   "cell_type": "code",
   "execution_count": 8,
   "id": "bcd9d15d",
   "metadata": {},
   "outputs": [],
   "source": [
    "numbers = [ 1,2,3,4,5,6]"
   ]
  },
  {
   "cell_type": "code",
   "execution_count": 16,
   "id": "67a3e0ca",
   "metadata": {},
   "outputs": [
    {
     "data": {
      "text/plain": [
       "'6, 1, 3.5'"
      ]
     },
     "execution_count": 16,
     "metadata": {},
     "output_type": "execute_result"
    }
   ],
   "source": [
    "def basic_stats(numbers):\n",
    "    np_numbers = np.array(numbers)\n",
    "    my_min = np_numbers.min()\n",
    "    my_max = np_numbers.max()\n",
    "    my_mean = np_numbers.mean()\n",
    "    return f'{my_max}, {my_min}, {my_mean}'\n",
    "\n",
    "basic_stats(numbers)\n"
   ]
  },
  {
   "cell_type": "code",
   "execution_count": 15,
   "id": "0e147ab7",
   "metadata": {},
   "outputs": [],
   "source": [
    "def basic_stats(numbers):\n",
    "    np_numbers = np.array(numbers)\n",
    "    my_min = np_numbers.min()\n",
    "    my_max = np_numbers.max()\n",
    "    my_mean = np_numbers.mean()\n",
    "    return my_max, my_min, my_mean"
   ]
  },
  {
   "cell_type": "markdown",
   "id": "086c003a",
   "metadata": {},
   "source": [
    "Anonymous function: no specified name given"
   ]
  },
  {
   "cell_type": "code",
   "execution_count": null,
   "id": "e0d72a21",
   "metadata": {},
   "outputs": [],
   "source": [
    "greet = lambda name: f\"Hello {name}!\"       #lambda function always returns value of last statement"
   ]
  },
  {
   "cell_type": "code",
   "execution_count": 5,
   "id": "cade082e",
   "metadata": {},
   "outputs": [
    {
     "data": {
      "text/plain": [
       "'Hello Jii!'"
      ]
     },
     "execution_count": 5,
     "metadata": {},
     "output_type": "execute_result"
    }
   ],
   "source": [
    "greet(name = 'Jii')"
   ]
  },
  {
   "cell_type": "markdown",
   "id": "0fcd7a99",
   "metadata": {},
   "source": [
    "### Optional Arguments\n",
    "Argument: the input within () after a function\n",
    "Optional argument: in which () can be left blank behind the function, and it still runs without error."
   ]
  },
  {
   "cell_type": "code",
   "execution_count": null,
   "id": "ef633549",
   "metadata": {},
   "outputs": [],
   "source": [
    "def greet(name='xxx'):                        # cannot just write greet(name): an argument {name} will always be expected\n",
    "    if name == 'Batman':                      # if write greet(name='xxx'), when else is true: return 'Hello {xxx}'\n",
    "        return 'Hellow Batman! Gooday.'\n",
    "    else:\n",
    "        return f'Hello {name}.'"
   ]
  },
  {
   "cell_type": "code",
   "execution_count": 15,
   "id": "9635b146",
   "metadata": {},
   "outputs": [
    {
     "data": {
      "text/plain": [
       "'Hello kimmy.'"
      ]
     },
     "execution_count": 15,
     "metadata": {},
     "output_type": "execute_result"
    }
   ],
   "source": [
    "greet('kimmy')"
   ]
  },
  {
   "cell_type": "code",
   "execution_count": 20,
   "id": "40728aa5",
   "metadata": {},
   "outputs": [
    {
     "data": {
      "text/plain": [
       "'Hello xxx.'"
      ]
     },
     "execution_count": 20,
     "metadata": {},
     "output_type": "execute_result"
    }
   ],
   "source": [
    "greet()"
   ]
  },
  {
   "cell_type": "markdown",
   "id": "535b4ca1",
   "metadata": {},
   "source": [
    "## Exercises"
   ]
  },
  {
   "cell_type": "code",
   "execution_count": 11,
   "id": "86bbe70a",
   "metadata": {},
   "outputs": [
    {
     "data": {
      "text/plain": [
       "'Hello Batman! So nice to meet you!'"
      ]
     },
     "execution_count": 11,
     "metadata": {},
     "output_type": "execute_result"
    }
   ],
   "source": [
    "def greet(name):\n",
    "    if name == 'Batman':\n",
    "        return 'Hello Batman! So nice to meet you!'\n",
    "    return f'Hello {name}!'\n",
    "\n",
    "greet('Batman')"
   ]
  },
  {
   "cell_type": "code",
   "execution_count": 10,
   "id": "e5bfa187",
   "metadata": {},
   "outputs": [
    {
     "name": "stdout",
     "output_type": "stream",
     "text": [
      "Hello Batman! So, nice to meet you!\n",
      "Hello Batman!\n"
     ]
    }
   ],
   "source": [
    "def greeting(name):\n",
    "    if name == 'Batman':\n",
    "        print('Hello Batman! So, nice to meet you!')\n",
    "    print(f'Hello {name}!')\n",
    "\n",
    "greeting('Batman')"
   ]
  },
  {
   "cell_type": "code",
   "execution_count": 64,
   "id": "86ab4d07",
   "metadata": {},
   "outputs": [
    {
     "data": {
      "text/plain": [
       "'Hello Jimmy!'"
      ]
     },
     "execution_count": 64,
     "metadata": {},
     "output_type": "execute_result"
    }
   ],
   "source": [
    "greet('Jimmy')"
   ]
  },
  {
   "cell_type": "markdown",
   "id": "9240a64f",
   "metadata": {},
   "source": [
    "### Exercise 1"
   ]
  },
  {
   "cell_type": "markdown",
   "id": "ffae0ed8",
   "metadata": {},
   "source": [
    "In above code, return f'Hello {name}!' is in the first indent, meaning this instruction will be executed by default if name ≠ Batman. If else statement is used, return f'Hello {name}!' will be in the second indent in the next line."
   ]
  },
  {
   "cell_type": "markdown",
   "id": "97311d67",
   "metadata": {},
   "source": [
    "Updated Version 2, upon mentor's feedback:\n",
    "\n",
    "If I change return to print() for both f-strings:\n",
    "\n",
    "In the scenario that name $\\ne$ 'Batman', the output is largely the same, since the if name=='Batman' section of code will be skipped. \n",
    "\n",
    "In the scenario that name == 'Batman', output will differ. For return, there will only be 1 output string: \"Hello Batman! So nice to meet you!\" But for print(), there will be 2 output strings: \"Hello Batman! So nice to meet you!\" and \"Hello Batman!\"\n",
    "\n",
    "\n",
    "\n",
    "This is because for return, the output is returned to the function greet() for storage, and then the function will be terminated at this line of code where return is. So if name input is Batman, the function will end at return 'Hello Batman! So nice to meet you!', and the next line of code containing return f'Hello {name}!' will not be executed. \n",
    "\n",
    "Whereas for print(), there is no such termination of the function on the line where print is. It just displays the string output. So if name input is Batman, by definition of greeting(): the function will continue after print('Hello Batman! So nice to meet you!'), and go on to print(f'Hello {name}!'), resulting in 2 lines of output."
   ]
  },
  {
   "cell_type": "markdown",
   "id": "95d148e2",
   "metadata": {},
   "source": [
    "### Exercise 2"
   ]
  },
  {
   "cell_type": "code",
   "execution_count": 15,
   "id": "328b1710",
   "metadata": {},
   "outputs": [],
   "source": [
    "# Version 1\n",
    "def calculate_bmi(weight, height):\n",
    "    BMI = weight / (height ** 2)\n",
    "    if BMI < 18.5:\n",
    "        return 'Underweight'\n",
    "    if 18.5 < BMI < 24.9:\n",
    "        return 'Normal weight'\n",
    "    if 25 < BMI < 29.9:\n",
    "        return 'Overweight'\n",
    "    if BMI > 30:\n",
    "        return 'Obsese'\n",
    "    \n",
    "calculate_bmi(60,1.55)"
   ]
  },
  {
   "cell_type": "markdown",
   "id": "6905be2d",
   "metadata": {},
   "source": [
    "Comments from mentor:\n",
    "    Try running the following case instances:\n",
    "\n",
    "    calculate_bmi('a','b')\n",
    "    calculate_bmi(60,0)\n",
    "    calculate_bmi(60,1.55)\n",
    "\n",
    "    How would you modify your function to adapt towards these cases?\n",
    "\n",
    "Learning points:\n",
    "    Case 1: input is string, not integer or float\n",
    "    Case 2: math error (cannot divide by 0)\n",
    "    Case 3: no else statement for every other number that slips through the range I coded for in if statements"
   ]
  },
  {
   "cell_type": "code",
   "execution_count": 30,
   "id": "5ae5482b",
   "metadata": {},
   "outputs": [
    {
     "data": {
      "text/plain": [
       "'invalid weight/height input!'"
      ]
     },
     "execution_count": 30,
     "metadata": {},
     "output_type": "execute_result"
    }
   ],
   "source": [
    "# Updated Version 2, upon mentor's feedback:\n",
    "\n",
    "def calculate_bmi(weight, height):\n",
    "    try:\n",
    "        BMI = weight / (height ** 2)\n",
    "        if BMI < 18.5:\n",
    "            return 'Underweight'\n",
    "        if 18.5 < BMI < 24.9:\n",
    "            return 'Normal weight'\n",
    "        if 25 < BMI < 29.9:\n",
    "            return 'Overweight'\n",
    "        if BMI > 30:\n",
    "            return 'Obsese'\n",
    "        else:\n",
    "            return 'BMI value not recognised'\n",
    "    except:\n",
    "        return 'invalid weight/height input!'\n",
    "    \n",
    "calculate_bmi(60,0)"
   ]
  },
  {
   "cell_type": "markdown",
   "id": "a58e46b3",
   "metadata": {},
   "source": [
    "### Exercise 3"
   ]
  },
  {
   "cell_type": "code",
   "execution_count": 4,
   "id": "b8f39ce9",
   "metadata": {},
   "outputs": [
    {
     "data": {
      "text/plain": [
       "362880"
      ]
     },
     "execution_count": 4,
     "metadata": {},
     "output_type": "execute_result"
    }
   ],
   "source": [
    "#Version 1\n",
    "\n",
    "def calc_factorial(integer):\n",
    "    result = 1                          # these 2 lines should be inserted here: under def calc_factorial(integer), \n",
    "    x = isinstance(integer, int)        # where variables: x and result are introduced WITHIN the definition of calc_factorial\n",
    "    if integer == 0: \n",
    "        return '1'\n",
    "    if integer < 0:\n",
    "        return \"Invalid Input (negative number).\"\n",
    "    if integer > 0: \n",
    "        if x == True:\n",
    "            for number in range(1,integer+1):\n",
    "                result *= number\n",
    "            return result\n",
    "        if x == False:\n",
    "            return \"Invalid Input (not an integer).\"\n",
    "\n",
    "calc_factorial(9)\n"
   ]
  },
  {
   "cell_type": "code",
   "execution_count": null,
   "id": "e1e3a587",
   "metadata": {},
   "outputs": [
    {
     "data": {
      "text/plain": [
       "120"
      ]
     },
     "execution_count": 5,
     "metadata": {},
     "output_type": "execute_result"
    }
   ],
   "source": [
    "# Updated Version 2 (upon mentor's feedback)\n",
    "\n",
    "def calc_factorial(integer):\n",
    "    \n",
    "    result = 1                          # these 2 lines should be inserted here: under def calc_factorial(integer), # where variables: x and result are introduced WITHIN the definition of calc_factorial\n",
    "    if integer == 0: \n",
    "        return '1'\n",
    "    if integer < 0:\n",
    "        return \"Invalid Input (negative number).\"\n",
    "    if integer > 0: \n",
    "        if isinstance(integer,int) == True:\n",
    "            for number in range(1,integer+1):\n",
    "                result *= number\n",
    "            return result\n",
    "        else:\n",
    "            return \"Invalid Input (not an integer).\"\n",
    "\n",
    "calc_factorial(5)\n"
   ]
  },
  {
   "cell_type": "code",
   "execution_count": 91,
   "id": "58dcdf88",
   "metadata": {},
   "outputs": [
    {
     "data": {
      "text/plain": [
       "True"
      ]
     },
     "execution_count": 91,
     "metadata": {},
     "output_type": "execute_result"
    }
   ],
   "source": [
    "integer = 7\n",
    "x = isinstance(integer, int)\n",
    "x\n"
   ]
  },
  {
   "cell_type": "code",
   "execution_count": null,
   "id": "31b8f3e1",
   "metadata": {},
   "outputs": [],
   "source": []
  }
 ],
 "metadata": {
  "kernelspec": {
   "display_name": "base",
   "language": "python",
   "name": "python3"
  },
  "language_info": {
   "codemirror_mode": {
    "name": "ipython",
    "version": 3
   },
   "file_extension": ".py",
   "mimetype": "text/x-python",
   "name": "python",
   "nbconvert_exporter": "python",
   "pygments_lexer": "ipython3",
   "version": "3.13.5"
  },
  "toc": {
   "base_numbering": 1,
   "nav_menu": {},
   "number_sections": true,
   "sideBar": true,
   "skip_h1_title": false,
   "title_cell": "Table of Contents",
   "title_sidebar": "Contents",
   "toc_cell": false,
   "toc_position": {},
   "toc_section_display": true,
   "toc_window_display": false
  }
 },
 "nbformat": 4,
 "nbformat_minor": 5
}
