{
 "cells": [
  {
   "attachments": {},
   "cell_type": "markdown",
   "id": "123456",
   "metadata": {},
   "source": [
    "<div style=\"text-align:left;font-size:2em\"><span style=\"font-weight:bolder;font-size:1.25em\">SP2273 | Learning Portfolio</span><br><br><span style=\"font-weight:bold;color:darkred\">Functions (Need) Exercises</span></div>"
   ]
  },
  {
   "cell_type": "markdown",
   "id": "952a3a3f",
   "metadata": {},
   "source": [
    "Named function: define function with a name, using function _def_"
   ]
  },
  {
   "cell_type": "code",
   "execution_count": null,
   "id": "74fa276e",
   "metadata": {},
   "outputs": [],
   "source": [
    "def greet(name):\n",
    "    if name == 'Batman': \n",
    "        return 'Hello Batman! Good day!'\n",
    "    else:\n",
    "        return f'Hello {name}!'"
   ]
  },
  {
   "cell_type": "code",
   "execution_count": 2,
   "id": "b9950361",
   "metadata": {},
   "outputs": [
    {
     "data": {
      "text/plain": [
       "'Hello Superman'"
      ]
     },
     "execution_count": 2,
     "metadata": {},
     "output_type": "execute_result"
    }
   ],
   "source": [
    "greet('Superman')"
   ]
  },
  {
   "cell_type": "code",
   "execution_count": 3,
   "id": "dd01d11e",
   "metadata": {},
   "outputs": [
    {
     "data": {
      "text/plain": [
       "'Hello Batman! Good day!'"
      ]
     },
     "execution_count": 3,
     "metadata": {},
     "output_type": "execute_result"
    }
   ],
   "source": [
    "greet('Batman')"
   ]
  },
  {
   "cell_type": "code",
   "execution_count": 4,
   "id": "df1c347b",
   "metadata": {},
   "outputs": [
    {
     "data": {
      "text/plain": [
       "'Hello Batman! Good day!'"
      ]
     },
     "execution_count": 4,
     "metadata": {},
     "output_type": "execute_result"
    }
   ],
   "source": [
    "greet(name=\"Batman\")"
   ]
  },
  {
   "cell_type": "code",
   "execution_count": 8,
   "id": "bcd9d15d",
   "metadata": {},
   "outputs": [],
   "source": [
    "numbers = [ 1,2,3,4,5,6]"
   ]
  },
  {
   "cell_type": "code",
   "execution_count": 16,
   "id": "67a3e0ca",
   "metadata": {},
   "outputs": [
    {
     "data": {
      "text/plain": [
       "'6, 1, 3.5'"
      ]
     },
     "execution_count": 16,
     "metadata": {},
     "output_type": "execute_result"
    }
   ],
   "source": [
    "def basic_stats(numbers):\n",
    "    np_numbers = np.array(numbers)\n",
    "    my_min = np_numbers.min()\n",
    "    my_max = np_numbers.max()\n",
    "    my_mean = np_numbers.mean()\n",
    "    return f'{my_max}, {my_min}, {my_mean}'\n",
    "\n",
    "basic_stats(numbers)\n"
   ]
  },
  {
   "cell_type": "code",
   "execution_count": 15,
   "id": "0e147ab7",
   "metadata": {},
   "outputs": [],
   "source": [
    "def basic_stats(numbers):\n",
    "    np_numbers = np.array(numbers)\n",
    "    my_min = np_numbers.min()\n",
    "    my_max = np_numbers.max()\n",
    "    my_mean = np_numbers.mean()\n",
    "    return my_max, my_min, my_mean"
   ]
  },
  {
   "cell_type": "markdown",
   "id": "086c003a",
   "metadata": {},
   "source": [
    "Anonymous function: no specified name given"
   ]
  },
  {
   "cell_type": "code",
   "execution_count": null,
   "id": "e0d72a21",
   "metadata": {},
   "outputs": [],
   "source": [
    "greet = lambda name: f\"Hello {name}!\"       #lambda function always returns value of last statement"
   ]
  },
  {
   "cell_type": "code",
   "execution_count": 5,
   "id": "cade082e",
   "metadata": {},
   "outputs": [
    {
     "data": {
      "text/plain": [
       "'Hello Jii!'"
      ]
     },
     "execution_count": 5,
     "metadata": {},
     "output_type": "execute_result"
    }
   ],
   "source": [
    "greet(name = 'Jii')"
   ]
  },
  {
   "cell_type": "markdown",
   "id": "0fcd7a99",
   "metadata": {},
   "source": [
    "### Optional Arguments\n",
    "Argument: the input within () after a function\n",
    "Optional argument: in which () can be left blank behind the function, and it still runs without error."
   ]
  },
  {
   "cell_type": "code",
   "execution_count": null,
   "id": "ef633549",
   "metadata": {},
   "outputs": [],
   "source": [
    "def greet(name='xxx'):                        # cannot just write greet(name): an argument {name} will always be expected\n",
    "    if name == 'Batman':                      # if write greet(name='xxx'), when else is true: return 'Hello {xxx}'\n",
    "        return 'Hellow Batman! Gooday.'\n",
    "    else:\n",
    "        return f'Hello {name}.'"
   ]
  },
  {
   "cell_type": "code",
   "execution_count": 15,
   "id": "9635b146",
   "metadata": {},
   "outputs": [
    {
     "data": {
      "text/plain": [
       "'Hello kimmy.'"
      ]
     },
     "execution_count": 15,
     "metadata": {},
     "output_type": "execute_result"
    }
   ],
   "source": [
    "greet('kimmy')"
   ]
  },
  {
   "cell_type": "code",
   "execution_count": 20,
   "id": "40728aa5",
   "metadata": {},
   "outputs": [
    {
     "data": {
      "text/plain": [
       "'Hello xxx.'"
      ]
     },
     "execution_count": 20,
     "metadata": {},
     "output_type": "execute_result"
    }
   ],
   "source": [
    "greet()"
   ]
  },
  {
   "cell_type": "markdown",
   "id": "535b4ca1",
   "metadata": {},
   "source": [
    "## Exercises"
   ]
  },
  {
   "cell_type": "code",
   "execution_count": 21,
   "id": "86bbe70a",
   "metadata": {},
   "outputs": [],
   "source": [
    "def greet(name):\n",
    "    if name == 'Batman':\n",
    "        return 'Hello Batman! So nice to meet you!'\n",
    "    return f'Hello {name}!'"
   ]
  },
  {
   "cell_type": "code",
   "execution_count": 64,
   "id": "86ab4d07",
   "metadata": {},
   "outputs": [
    {
     "data": {
      "text/plain": [
       "'Hello Jimmy!'"
      ]
     },
     "execution_count": 64,
     "metadata": {},
     "output_type": "execute_result"
    }
   ],
   "source": [
    "greet('Jimmy')"
   ]
  },
  {
   "cell_type": "markdown",
   "id": "ffae0ed8",
   "metadata": {},
   "source": [
    "In above code, return f'Hello {name}!' is in the first indent, meaning this instruction will be executed by default if name ≠ Batman. If else statement is used, return f'Hello {name}!' will be in the second indent in the next line."
   ]
  },
  {
   "cell_type": "code",
   "execution_count": 43,
   "id": "328b1710",
   "metadata": {},
   "outputs": [
    {
     "data": {
      "text/plain": [
       "'Obsese'"
      ]
     },
     "execution_count": 43,
     "metadata": {},
     "output_type": "execute_result"
    }
   ],
   "source": [
    "def calculate_bmi(weight, height):\n",
    "    BMI = weight / (height ** 2)\n",
    "    if BMI < 18.5:\n",
    "        return 'Underweight'\n",
    "    if 18.5 < BMI < 24.9:\n",
    "        return 'Normal weight'\n",
    "    if 25 < BMI < 29.9:\n",
    "        return 'Overweight'\n",
    "    if BMI > 30:\n",
    "        return 'Obsese'\n",
    "    \n",
    "calculate_bmi(90,1.50)"
   ]
  },
  {
   "cell_type": "code",
   "execution_count": 33,
   "id": "b8f39ce9",
   "metadata": {},
   "outputs": [
    {
     "data": {
      "text/plain": [
       "362880"
      ]
     },
     "execution_count": 33,
     "metadata": {},
     "output_type": "execute_result"
    }
   ],
   "source": [
    "\n",
    "def calc_factorial(integer):\n",
    "    result = 1                          # these 2 lines should be inserted here: under def calc_factorial(integer), \n",
    "    x = isinstance(integer, int)        # where variables: x and result are introduced WITHIN the definition of calc_factorial\n",
    "    if integer == 0: \n",
    "        return '1'\n",
    "    if integer < 0:\n",
    "        return \"Invalid Input (negative number).\"\n",
    "    if integer > 0: \n",
    "        if x == True:\n",
    "            for number in range(1,integer+1):\n",
    "                result *= number\n",
    "            return result\n",
    "        if x == False:\n",
    "            return \"Invalid Input (not an integer).\"\n",
    "\n",
    "calc_factorial(9)\n"
   ]
  },
  {
   "cell_type": "code",
   "execution_count": 91,
   "id": "58dcdf88",
   "metadata": {},
   "outputs": [
    {
     "data": {
      "text/plain": [
       "True"
      ]
     },
     "execution_count": 91,
     "metadata": {},
     "output_type": "execute_result"
    }
   ],
   "source": [
    "integer = 7\n",
    "x = isinstance(integer, int)\n",
    "x\n"
   ]
  },
  {
   "cell_type": "code",
   "execution_count": null,
   "id": "31b8f3e1",
   "metadata": {},
   "outputs": [],
   "source": []
  }
 ],
 "metadata": {
  "kernelspec": {
   "display_name": "base",
   "language": "python",
   "name": "python3"
  },
  "language_info": {
   "codemirror_mode": {
    "name": "ipython",
    "version": 3
   },
   "file_extension": ".py",
   "mimetype": "text/x-python",
   "name": "python",
   "nbconvert_exporter": "python",
   "pygments_lexer": "ipython3",
   "version": "3.13.5"
  },
  "toc": {
   "base_numbering": 1,
   "nav_menu": {},
   "number_sections": true,
   "sideBar": true,
   "skip_h1_title": false,
   "title_cell": "Table of Contents",
   "title_sidebar": "Contents",
   "toc_cell": false,
   "toc_position": {},
   "toc_section_display": true,
   "toc_window_display": false
  }
 },
 "nbformat": 4,
 "nbformat_minor": 5
}
