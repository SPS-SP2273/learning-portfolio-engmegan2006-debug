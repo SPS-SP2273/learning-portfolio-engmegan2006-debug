{
 "cells": [
  {
   "attachments": {},
   "cell_type": "markdown",
   "id": "123456",
   "metadata": {},
   "source": [
    "<div style=\"text-align:left;font-size:2em\"><span style=\"font-weight:bolder;font-size:1.25em\">SP2273 | Learning Portfolio</span><br><br><span style=\"font-weight:bold;color:darkred\">Functions (Good) Exercises</span></div>"
   ]
  },
  {
   "cell_type": "code",
   "execution_count": 3,
   "id": "e77451b7",
   "metadata": {},
   "outputs": [],
   "source": [
    "x= 10\n",
    "assert x >= 0, \"x is becoming negative\""
   ]
  },
  {
   "cell_type": "code",
   "execution_count": 5,
   "id": "0568d644",
   "metadata": {},
   "outputs": [
    {
     "ename": "AssertionError",
     "evalue": "x is becoming negative",
     "output_type": "error",
     "traceback": [
      "\u001b[31m---------------------------------------------------------------------------\u001b[39m",
      "\u001b[31mAssertionError\u001b[39m                            Traceback (most recent call last)",
      "\u001b[36mCell\u001b[39m\u001b[36m \u001b[39m\u001b[32mIn[5]\u001b[39m\u001b[32m, line 2\u001b[39m\n\u001b[32m      1\u001b[39m x = -\u001b[32m1\u001b[39m\n\u001b[32m----> \u001b[39m\u001b[32m2\u001b[39m \u001b[38;5;28;01massert\u001b[39;00m x >=\u001b[32m0\u001b[39m, \u001b[33m\"\u001b[39m\u001b[33mx is becoming negative\u001b[39m\u001b[33m\"\u001b[39m\n",
      "\u001b[31mAssertionError\u001b[39m: x is becoming negative"
     ]
    }
   ],
   "source": [
    "x = -1\n",
    "assert x >=0, \"x is becoming negative\""
   ]
  },
  {
   "cell_type": "code",
   "execution_count": null,
   "id": "200cc098",
   "metadata": {},
   "outputs": [
    {
     "name": "stdout",
     "output_type": "stream",
     "text": [
      "The square of 24 is 576!\n"
     ]
    }
   ],
   "source": [
    "# Try-except syntax ensure program handles situations beyond control\n",
    "# Handle situations when server does not respond\n",
    "\n",
    "number=input(\"give me a number and I will calculate square.\")\n",
    "        # number is the input given in response to the question \n",
    "square=int(number)**2       #convert English input to number\n",
    "print(f\"The square of {number} is {square}!\")"
   ]
  },
  {
   "cell_type": "code",
   "execution_count": null,
   "id": "a364a018",
   "metadata": {},
   "outputs": [
    {
     "name": "stdout",
     "output_type": "stream",
     "text": [
      "Oh oh! I cannot square !\n"
     ]
    }
   ],
   "source": [
    "try:\n",
    "    number=input(\"Give me a number and I will calculate its square.\")\n",
    "    square=int(number)**2\n",
    "    print(f'The square of {number} is {square}!')\n",
    "except:\n",
    "    print(f\"Oh oh! I cannot square {number}!\")\n",
    "\n",
    "    # When an input cannot be processed (eg. is not an integer input as expected, there is a fail-proof solution"
   ]
  },
  {
   "cell_type": "code",
   "execution_count": 4,
   "id": "b88909ed",
   "metadata": {},
   "outputs": [],
   "source": [
    "#Positional, keyword, default: ways to pass a value to an argument\n",
    "\n",
    "def side_by_side(a, b, c=42):\n",
    "    return f'{a:2d}|{b:2d}|{c:2d}'"
   ]
  },
  {
   "cell_type": "code",
   "execution_count": 5,
   "id": "7c848b3e",
   "metadata": {},
   "outputs": [
    {
     "data": {
      "text/plain": [
       "' 1| 2| 3'"
      ]
     },
     "execution_count": 5,
     "metadata": {},
     "output_type": "execute_result"
    }
   ],
   "source": [
    "side_by_side(1,2,3)"
   ]
  },
  {
   "cell_type": "markdown",
   "id": "0fa36cba",
   "metadata": {},
   "source": [
    "### Exercise 1"
   ]
  },
  {
   "cell_type": "code",
   "execution_count": 28,
   "id": "068adbca",
   "metadata": {},
   "outputs": [
    {
     "data": {
      "text/plain": [
       "'the temperature is 273.15 K.'"
      ]
     },
     "execution_count": 28,
     "metadata": {},
     "output_type": "execute_result"
    }
   ],
   "source": [
    "def convert_celsius(temperature_celsius, target_scale='Fahrenheit'):\n",
    "    target_scale = input(\"Give me a target scale for conversion.\")\n",
    "    if target_scale == \"Kelvin\":\n",
    "        output = float(temperature_celsius + 273.15)\n",
    "        return f\"the temperature is {output:.2f} K.\"\n",
    "    else: \n",
    "        output = float(1.8*temperature_celsius + 32)\n",
    "        return f\"the temperature is {output:.2f}°F.\"\n",
    "\n",
    "convert_celsius(0)"
   ]
  },
  {
   "cell_type": "markdown",
   "id": "cb309ad3",
   "metadata": {},
   "source": [
    "### Exercise 2"
   ]
  },
  {
   "cell_type": "code",
   "execution_count": 30,
   "id": "bc0e46ad",
   "metadata": {},
   "outputs": [
    {
     "data": {
      "text/plain": [
       "'the temperature is 255.37 K.'"
      ]
     },
     "execution_count": 30,
     "metadata": {},
     "output_type": "execute_result"
    }
   ],
   "source": [
    "def convert_fahrenheit(temp_f, target_scale = 'Celsius'):\n",
    "    target_scale = input(\"Give me a target scale for conversion.\")\n",
    "    if target_scale == 'Kelvin':\n",
    "        output = float((temp_f -32)*5/9 + 273.15)\n",
    "        return f\"the temperature is {output:.2f} K.\"\n",
    "    else:\n",
    "        output = float((temp_f - 32)*5/9)\n",
    "        return f\"the temperature is {output:.2f}°C.\"\n",
    "\n",
    "convert_fahrenheit(0)"
   ]
  },
  {
   "cell_type": "markdown",
   "id": "bd3a08f4",
   "metadata": {},
   "source": [
    "### Exercise 3"
   ]
  },
  {
   "cell_type": "code",
   "execution_count": 34,
   "id": "740f7867",
   "metadata": {},
   "outputs": [
    {
     "data": {
      "text/plain": [
       "'the temperature is -459.67°F.'"
      ]
     },
     "execution_count": 34,
     "metadata": {},
     "output_type": "execute_result"
    }
   ],
   "source": [
    "def convert_temperature(temp, source_scale = \"_\", target_scale = \"_\"):\n",
    "    source_scale = input(\"Name the source scale.\")\n",
    "    target_scale = input(\"Name the target scale.\")\n",
    "    if source_scale == \"Celsius\":\n",
    "        if target_scale == \"Fahrenheit\":\n",
    "            output = float(1.8*temp + 32)\n",
    "            return f\"the temperature is {output:.2f}°F.\"\n",
    "        elif target_scale == \"Kelvin\":\n",
    "            output = float(temp + 273.15)\n",
    "            return f\"the temperature is {output:.2f} K.\"\n",
    "        else: \n",
    "            return f\"Unrecognised target scale!\"\n",
    "\n",
    "    elif source_scale == \"Fahrenheit\":\n",
    "        if target_scale == \"Celsius\":\n",
    "            output = float((temp - 32)*5/9)\n",
    "            return f\"the temperature is {output:.2f}°C.\"\n",
    "        elif target_scale == \"Kelvin\":\n",
    "            output = float((temp -32)*5/9 + 273.15)\n",
    "            return f\"the temperature is {output:.2f} K.\"\n",
    "        else:\n",
    "            return f\"Unrecognised target scale!\"\n",
    "\n",
    "    elif source_scale == \"Kelvin\":\n",
    "        if target_scale == \"Celsius\":\n",
    "            output = float(temp - 273.15)\n",
    "            return f\"the temperature is {output:.2f}°C.\"\n",
    "        elif target_scale == \"Fahrenheit\":\n",
    "            output = float((temp - 273.15)* 9/5 + 32)\n",
    "            return f\"the temperature is {output:.2f}°F.\"\n",
    "        else:\n",
    "            return f\"Unrecognised target scale!\"\n",
    "\n",
    "    else:\n",
    "        return f\"Unrecognised source scale!\"\n",
    "    \n",
    "\n",
    "convert_temperature(0)"
   ]
  },
  {
   "cell_type": "code",
   "execution_count": 19,
   "id": "b7c5d2e6",
   "metadata": {},
   "outputs": [
    {
     "data": {
      "text/plain": [
       "5.555555555555555"
      ]
     },
     "execution_count": 19,
     "metadata": {},
     "output_type": "execute_result"
    }
   ],
   "source": [
    "output = (42-32)*5/9\n",
    "output"
   ]
  },
  {
   "cell_type": "code",
   "execution_count": null,
   "id": "4bf9e2ce",
   "metadata": {},
   "outputs": [
    {
     "name": "stdout",
     "output_type": "stream",
     "text": [
      "1.0\n",
      "6.123233995736766e-17\n"
     ]
    }
   ],
   "source": [
    "# For given example to work: (import math so that math.sin(math.pi) can directly be carried out)\n",
    "import math     \n",
    "\n",
    "def my_function(angle, trig_function):\n",
    "    return trig_function(angle)\n",
    "\n",
    "print(my_function(math.pi/2, math.sin))  # 1.0\n",
    "print(my_function(math.pi/2, math.cos))"
   ]
  }
 ],
 "metadata": {
  "kernelspec": {
   "display_name": "base",
   "language": "python",
   "name": "python3"
  },
  "language_info": {
   "codemirror_mode": {
    "name": "ipython",
    "version": 3
   },
   "file_extension": ".py",
   "mimetype": "text/x-python",
   "name": "python",
   "nbconvert_exporter": "python",
   "pygments_lexer": "ipython3",
   "version": "3.13.5"
  },
  "toc": {
   "base_numbering": 1,
   "nav_menu": {},
   "number_sections": true,
   "sideBar": true,
   "skip_h1_title": false,
   "title_cell": "Table of Contents",
   "title_sidebar": "Contents",
   "toc_cell": false,
   "toc_position": {},
   "toc_section_display": true,
   "toc_window_display": false
  }
 },
 "nbformat": 4,
 "nbformat_minor": 5
}
